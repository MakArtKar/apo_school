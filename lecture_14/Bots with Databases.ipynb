{
 "cells": [
  {
   "cell_type": "markdown",
   "metadata": {},
   "source": [
    "# Создание Телеграм-ботов. Боты с базами данных.\n",
    "\n",
    "Сегодня мы с вами выясним, что такое базы данных, и зачем они нужны в Телеграм-ботах. Кроме этого, научимся работать с медиафайлами в телеграме по `file_id`.\n",
    "\n",
    "---\n",
    "\n",
    "Ссылки:\n",
    "* Описание всех методов и классов Telegram Bot API: https://core.telegram.org/bots/api\n",
    "* Гайд по созданию Телеграм-ботов: https://mastergroosha.github.io/telegram-tutorial/\n",
    "* О `shelve`: https://metanit.com/python/tutorial/4.6.php\n",
    "* О `SQLite`: https://python-scripts.com/sqlite\n",
    "* Скачать `DB Browser for SQLite`: https://sqlitebrowser.org/dl/"
   ]
  },
  {
   "cell_type": "markdown",
   "metadata": {},
   "source": [
    "Боты, которых мы писали ранее, хранили все данные о пользователях в оперативной памяти. Этот метод плох, потому что, если перезапустить бота, то вся информация будет утеряна.  \n",
    "\n",
    "Из-за этого, важную информацию нужно хранить в файлах на диске. Как это сделать мы сейчас и обсудим.  \n",
    "\n",
    "*Сделаю важное замечание: работа с файлами на диске в тысячи раз медленнее, чем с файлами в оперативной памяти (RAM). Поэтому не увлекайтесь - храните на диске только информацию, потеря которой критична.*"
   ]
  },
  {
   "cell_type": "markdown",
   "metadata": {},
   "source": [
    "# Shelve\n",
    "\n",
    "Самый очевидный вариант - создать какой-нибудь `txt`-файлик, и в него все напрямую записать через метод `open`. Так можно сделать, но тогда работа с данными будет очень неудобной: нам придется написать много кода, чтобы доставать из файла информацию, которая нужна в данный момент.  \n",
    "\n",
    "Подход, когда информация просто записывается в файл, удобно реализована в модуле `shelve`. Интерфейс работы с данными в этом модуле аналогичен работе со словарями. Единственное ограничение: ключ должен быть строкой. А значение - не может изменяться частично (т.е. нельзя добавить **один** элемент в список, только записать весь список заново).\n",
    "\n",
    "Пример использования `shelve`-хранилища на чтение и запись."
   ]
  },
  {
   "cell_type": "code",
   "execution_count": 1,
   "metadata": {},
   "outputs": [
    {
     "name": "stdout",
     "output_type": "stream",
     "text": [
      "London\n",
      "Madrid\n",
      "False\n"
     ]
    }
   ],
   "source": [
    "import shelve\n",
    " \n",
    "FILENAME = \"capitals\"\n",
    "with shelve.open(FILENAME, 'c') as capitals:    # Перед использованием - shelve-хранилище надо открыть\n",
    "    capitals[\"Great Britain\"] = \"London\"\n",
    "    capitals[\"France\"] = \"Paris\"\n",
    "    capitals[\"Germany\"] = \"Berlin\"\n",
    "    capitals[\"Spain\"] = \"Madrid\"\n",
    " \n",
    "with shelve.open(FILENAME) as capitals:\n",
    "    print(capitals[\"Great Britain\"])\n",
    "    print(capitals[\"Spain\"])\n",
    "    \n",
    "    del capitals[\"Spain\"]\n",
    "    print(\"Spain\" in capitals)"
   ]
  },
  {
   "cell_type": "markdown",
   "metadata": {},
   "source": [
    "Есть 4 режима открытия shelve-хранилища:  \n",
    "\n",
    "* **c:** файл открывается для чтения и записи (значение по умолчанию). Если файл не существует, то он создается.\n",
    "* **r:** файл открывается только для чтения.\n",
    "* **w:** файл открывается для записи (если файла не было - кинет ошибку).\n",
    "* **n:** файл открывается для записи Если файл не существует, то он создается. Если он существует, то он перезаписывается"
   ]
  },
  {
   "cell_type": "markdown",
   "metadata": {},
   "source": [
    "# SQLite\n",
    "\n",
    "Для более важной и сложнее структурированной информации используют базы данных (database).  \n",
    "\n",
    "* Базы данных по-особому хранят данные. Из-за этого доступ к информации при больших размерах базы сравнительно быстр.\n",
    "* В базах данных информация серьезнее защищается от непредвиденных ситуаций: например, от исключений во время чтения или записи.  \n",
    "* С базой данных одновременно могут работать несколько программ на чтение и запись (с `shelve` так можно делать только на чтение).  \n",
    "* Базы данных поддерживают язык запросов `SQL`, который позволяет находить и изменять информацию по определенным правилам.\n",
    "\n",
    "И это далеко не все.\n",
    "\n",
    "Я расскажу про базу данных `SQLite`. Ее можно использовать с программами на Питоне без скачивания дополнительных модулей.\n",
    "\n",
    "\n",
    "## Графический интерфейс\n",
    "\n",
    "С базой данных можно работать программно. Но задать ее первоначальный вид и визуализировать ее содержимое можно через утилиту `DB Browser for SQLite`.  \n",
    "Скачать ее можно здесь: https://sqlitebrowser.org/dl/"
   ]
  },
  {
   "cell_type": "markdown",
   "metadata": {},
   "source": [
    "<table><tr><td><img src=\"БД-1.jpg\" style=\"height:350px;\"/></td> <td><img src=\"БД-2.jpg\" style=\"height:350px;\"/></td></tr> <tr> <td><img src=\"БД-3.jpg\" style=\"height:250px;\"/></td> <td><img src=\"БД-4.jpg\" style=\"height:250px;\"/></td> </tr></table>"
   ]
  },
  {
   "cell_type": "markdown",
   "metadata": {},
   "source": [
    "Алгоритм создания базы данных прост:  \n",
    "1. Жмем на `Новая база данных` в левом верхнем углу.\n",
    "2. Выбираем, где сохранить базу данных.  \n",
    "В следующем окне прописываем название таблицы (его дальше будем использовать в коде) и столбцы таблицы (для них указываем тип данных, который в них будет храниться).\n",
    "3. Чтобы добавить в даблицу значение - жмем `Добавить запись`.\n",
    "4. Кликаем по ячейкам новой пустой строки и заполняем их.\n",
    "5. Жмем `Записать изменения` (рядом с `Новая база данных`)."
   ]
  },
  {
   "cell_type": "markdown",
   "metadata": {},
   "source": [
    "## Работа с SQLite через Python\n",
    "### Создание таблицы\n"
   ]
  },
  {
   "cell_type": "code",
   "execution_count": 2,
   "metadata": {},
   "outputs": [
    {
     "data": {
      "text/plain": [
       "<sqlite3.Cursor at 0x523e1f0>"
      ]
     },
     "execution_count": 2,
     "metadata": {},
     "output_type": "execute_result"
    }
   ],
   "source": [
    "import sqlite3  # Подключаем модуль\n",
    " \n",
    "connection = sqlite3.connect(\"mydatabase.db\")  # или в скобочках написать :memory: чтобы сохранить в RAM.\n",
    "cursor = connection.cursor()  # Объект для работы с БД.\n",
    "\n",
    "# Создание таблицы\n",
    "cursor.execute(\"\"\"CREATE TABLE music\n",
    "                  (id integer, Исполнитель text,\n",
    "                   Композиция text)\n",
    "               \"\"\")\n",
    "\n",
    "# SQLite поддерживает пять типов данных: null, integer, real, text и blob."
   ]
  },
  {
   "cell_type": "markdown",
   "metadata": {},
   "source": [
    "Здесь мы создали таблицу в базе данных с теми же столбцами, что и через графический интерфейс. Если файла `mydatabase.db` на момент вызова функции не было - он создастся автоматически.  \n",
    "\n",
    "Если мы попробуем вызвать эту функцию еще раз, то возникнет ошибка, потому что в базе данных `mydatabase.db` уже есть таблица `music`.\n",
    "\n",
    "Основная функция для работы с `SQLite` - это `cursor.execute(command)`. Здесь `command` - это строка с SQL-запросом.\n",
    "\n",
    "### Заполнение таблицы"
   ]
  },
  {
   "cell_type": "code",
   "execution_count": 7,
   "metadata": {},
   "outputs": [
    {
     "name": "stdout",
     "output_type": "stream",
     "text": [
      "8\n"
     ]
    }
   ],
   "source": [
    "# Вставляем данные в таблицу\n",
    "cursor.execute(\"INSERT INTO music VALUES (1, 'Panic! At The Disco', 'Vegas Lights')\")\n",
    "\n",
    "# Вставляем множество данных в таблицу используя безопасный метод \"?\"\n",
    "music = [(2, 'Arctic Monkeys', 'I Bet You Look Good On The Dancefloor'),\n",
    "         (3, 'Kanye West', 'Wolves'),\n",
    "         (4, 'Katy Perry', 'Roar')]     # В списке лежат строки, которые будут добавлены. \n",
    "                                        # Каждый элемент - кортеж из элементов строки.\n",
    " \n",
    "cursor.executemany(\"INSERT INTO music VALUES (?,?,?)\", music)  # Число вопросиков - число столбцов в таблице.\n",
    "                                                               # На место вопросиков встанут элементы кортежа.\n",
    "\n",
    "# Считаем количество строк в таблице\n",
    "amount_of_rows = cursor.execute(\"SELECT COUNT (*) FROM music\").fetchone()[0]\n",
    "print(amount_of_rows)\n",
    "\n",
    "# Сохраняем изменения\n",
    "connection.commit()"
   ]
  },
  {
   "cell_type": "markdown",
   "metadata": {},
   "source": [
    "### Редактирование таблицы"
   ]
  },
  {
   "cell_type": "code",
   "execution_count": 4,
   "metadata": {},
   "outputs": [],
   "source": [
    "# Заполняет поле \"Композиция\" значением \"Jesus Walks\" в строчке, где \"Исполнитель\" - \"Kanye West\"\n",
    "sql = \"UPDATE music SET Композиция = 'Jesus Walks' WHERE Исполнитель = 'Kanye West'\"\n",
    "cursor.execute(sql)\n",
    "\n",
    "# Удаляет строчку, где исполнитель - \"Katy Perry\"\n",
    "sql = \"DELETE FROM music WHERE Исполнитель = 'Katy Perry'\"\n",
    "cursor.execute(sql)\n",
    "\n",
    "# Удаляет все строчки из таблицы\n",
    "sql = \"DELETE FROM music\"\n",
    "cursor.execute(sql)\n",
    "\n",
    "connection.commit()"
   ]
  },
  {
   "cell_type": "markdown",
   "metadata": {},
   "source": [
    "### Запросы к таблице"
   ]
  },
  {
   "cell_type": "code",
   "execution_count": 14,
   "metadata": {},
   "outputs": [
    {
     "name": "stdout",
     "output_type": "stream",
     "text": [
      "(3, 'Kanye West', 'Wolves')\n",
      "(2, 2, 'Arctic Monkeys', 'I Bet You Look Good On The Dancefloor')\n",
      "(6, 2, 'Arctic Monkeys', 'I Bet You Look Good On The Dancefloor')\n",
      "(3, 3, 'Kanye West', 'Wolves')\n",
      "(7, 3, 'Kanye West', 'Wolves')\n",
      "(4, 4, 'Katy Perry', 'Roar')\n",
      "(8, 4, 'Katy Perry', 'Roar')\n",
      "(1, 1, 'Panic! At The Disco', 'Vegas Lights')\n",
      "(5, 1, 'Panic! At The Disco', 'Vegas Lights')\n",
      "[(2, 'Arctic Monkeys', 'I Bet You Look Good On The Dancefloor'), (2, 'Arctic Monkeys', 'I Bet You Look Good On The Dancefloor')]\n"
     ]
    }
   ],
   "source": [
    "# Если раскомментировать строку ниже, то строки вернутся как объекты Row с интерфейсом словаря.\n",
    "# connection.row_factory = sqlite3.Row  \n",
    " \n",
    "# Выбирает из таблицы строки, где исполнитель - то, что передаем вторым параметром в функцию execute()\n",
    "# * означает, что будут выбраны все элементы из строки\n",
    "sql = \"SELECT * FROM music WHERE Исполнитель=?\"\n",
    "cursor.execute(sql, (\"Kanye West\",))\n",
    "print(cursor.fetchone())  # Возвращает все строки. Если использовать fetchone(), то вернет первую встретившуюся.\n",
    "\n",
    "\n",
    "# Сначала пишет номер строки, потом все элементы строки. Все результаты сортируются по исполнителю.\n",
    "for row in cursor.execute(\"SELECT rowid, * FROM music ORDER BY Исполнитель\"):\n",
    "    print(row)\n",
    " \n",
    "\n",
    "# Выбирает строчки, где композиция содержит 'The'.\n",
    "sql = \"SELECT * FROM music WHERE Композиция LIKE '%THE%'\"\n",
    "cursor.execute(sql)\n",
    "print(cursor.fetchall())"
   ]
  },
  {
   "cell_type": "markdown",
   "metadata": {},
   "source": [
    "# Работа с медиа через `file_id`\n",
    "\n",
    "Чтобы экономить трафик, память и время - в Телеграм для отправки медиа можно отправлять не сами файлы, а их уникальный `file_id`. При условии, что этот файл был когда-то отправлен на сервера Телеграма, конечно.  \n",
    "\n",
    "**Важно!** Для разных ботов `file_id` одних и тех же медиафайлов различаются. Сам `file_id` - питоновская строка.\n",
    "\n",
    "\n",
    "## Получение `file_id`\n",
    "\n",
    "Чтобы получить `file_id` медиафайла нужно посмотреть на переменную `message`, соответствующую сообщению, в котором был отправлен исходный файл.  \n",
    "\n",
    "В зависимости от типа контента в сообщении будут присутствовать поля:\n",
    "* photo\n",
    "* audio\n",
    "* video\n",
    "* voice  \n",
    "\n",
    "и другие. Про остальные поля можно почитать здесь: https://core.telegram.org/bots/api#message  \n",
    "\n",
    "В каждом из этих полей, кроме `photo`, есть поле `file_id`. Оно нам и нужно.  \n",
    "Т.е., чтобы достать `file_id` аудиосообщения - нам понадобится написать `message.audio.file_id`.  \n",
    "\n",
    "С полем `photo` ситуация немного интереснее. Поле `photo` - это список объектов `PhotoSize`. Каждый из этих объектов соответствует этому же изображению, но в разных разрешениях. Это сделано, чтобы на маленьких экранах не загружались чересчур большие фотографии. В списке качество фотографий идет по возрастанию. Количество элементов в списке зависит от разрешения исходного изображения (чем оно больше, тем больше градаций, тем больше элементов в списке).\n",
    "\n",
    "`file_id` нужно смотреть непосредственно у объекта `PhotoSize`. При *отправке* изображения по `file_id` нет разницы, у какого из `PhotoSize` мы его возьмем. Но при *скачивании* изображения по `file_id` - скачается изображение с соответствующим разрешением.  \n",
    "\n",
    "Т.е., чтобы достать `file_id` фотографии с наихудшим разрешением - нужно написать `message.photo[0].file_id`.  "
   ]
  },
  {
   "cell_type": "code",
   "execution_count": null,
   "metadata": {},
   "outputs": [],
   "source": [
    "@bot.message_handler(content_types=['text'])\n",
    "def get_file_id(message):\n",
    "    bot.send_message(message.chat.id, \"привет\")\n",
    "    with open(\"Koala.jpg\", \"rb\") as photo:\n",
    "        msg = bot.send_photo(message.chat.id, photo)\n",
    "        print(msg)\n",
    "        bot.send_message(message.chat.id, msg.photo[2].file_id)"
   ]
  },
  {
   "cell_type": "markdown",
   "metadata": {},
   "source": [
    "## Скачивание файла по `file_id`\n",
    "\n",
    "Для скачивания файла понадобится функция `bot.get_file(file_id)`. Она по `file_id` вернет объект `File`.  \n",
    "\n",
    "Ваш файл можно скачать по ссылке: `https://api.telegram.org/file/bot<token>/<file_path>`. Здесь вместо `<token>` нужно указать токен вашего бота, а вместо `<file_path>` - поле `bot.get_file(file_id).file_path`.  \n",
    "\n",
    "В скачивании объекта по ссылке вам поможет функция `requests.get(link).content` из модуля `requests`.  \n",
    "\n",
    "В сборе код скачивания файла и записи его в файл выглядит так:"
   ]
  },
  {
   "cell_type": "code",
   "execution_count": null,
   "metadata": {},
   "outputs": [],
   "source": [
    "def download_file(file_id, file_name):\n",
    "    link = 'https://api.telegram.org/file/bot{}/{}'.format(config.TOKEN, bot.get_file(file_id).file_path)\n",
    "    to_write = requests.get(link).content\n",
    "    with open(file_name, \"wb\") as file:\n",
    "        file.write(to_write)"
   ]
  },
  {
   "cell_type": "markdown",
   "metadata": {},
   "source": [
    "# Пишем бота-викторину \"Угадай мелодию\""
   ]
  },
  {
   "cell_type": "code",
   "execution_count": null,
   "metadata": {},
   "outputs": [],
   "source": [
    "# Код в PyCharm проекте."
   ]
  }
 ],
 "metadata": {
  "kernelspec": {
   "display_name": "Python 3",
   "language": "python",
   "name": "python3"
  },
  "language_info": {
   "codemirror_mode": {
    "name": "ipython",
    "version": 3
   },
   "file_extension": ".py",
   "mimetype": "text/x-python",
   "name": "python",
   "nbconvert_exporter": "python",
   "pygments_lexer": "ipython3",
   "version": "3.7.4"
  }
 },
 "nbformat": 4,
 "nbformat_minor": 2
}
