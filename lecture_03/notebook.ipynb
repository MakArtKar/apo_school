{
 "cells": [
  {
   "cell_type": "markdown",
   "metadata": {},
   "source": [
    "# Знакомство с HTML\n",
    "\n",
    "HTML –– язык разметки web-страниц. Далее в ячейках с кодом я буду указывать код страницы, по которому можно увидеть саму страницу, сохранив в файле с расширением `.html` и открыв в браузере."
   ]
  },
  {
   "cell_type": "raw",
   "metadata": {},
   "source": [
    "Моя первая страница!"
   ]
  },
  {
   "cell_type": "markdown",
   "metadata": {},
   "source": [
    "В ячейка выше уже есть код страницы, которая может быть отображена в браузере. Если ее открыть, то вы увидите текст, который написали в коде. Он может отображаться некорректно из-за проблем с кодировкой. <br><br>\n",
    "Хотя основа документа HTML – простой текст, чтобы создать настоящий HTML документ, необходимо задать структуру документа.\n",
    "\n",
    "Структура документа HTML состоит из тегов, которые окружают содержимое и придают ему определенное техническое значение."
   ]
  },
  {
   "cell_type": "raw",
   "metadata": {},
   "source": [
    "<!DOCTYPE html>\n",
    "<meta charset=\"utf-8\" />\n",
    "<html>\n",
    "<body>\n",
    "    Это моя первая веб-страница\n",
    "</body>\n",
    "</html>"
   ]
  },
  {
   "cell_type": "markdown",
   "metadata": {},
   "source": [
    "Внешний вид страницы никак не изменился. Однако предназначение HTML – определение значения для содержимого, а не внешнего представления, и данный пример показал нам несколько фундаментальных элементов веб-страницы, задающих базовую структуру документа HTML.\n",
    "\n",
    "Первая строка говорит браузеру, что перед ним HTML-документ.\n",
    "\n",
    "Следующая команда в структуре документа HTML, команда <html>, -– открывающий тег, который говорит браузеру, что все, что между ним и закрывающим тегом </html>, является HTML документом. Все что находится между <body> и </body> является основным содержимым веб-страницы и выводится в окне браузера.\n",
    "\n",
    "Теги `</body>` и `</html>` закрывают соответствующие открывающие теги. Все теги в структуре документа HTML должны быть закрыты.\n",
    "\n",
    "Не у всех тегов есть соответствующие закрывающие теги. Некоторые теги, которые не заключают в себе контент, закрывают сами себя. Например, тег разрыва строки выглядит следующим образом: `<br />`. Мы вернемся к этому примеру позднее. Все что нужно запомнить, это то, что все теги в структуре документа HTML должны быть закрыты, и большинство из них имеют следующую форму: открывающий тег → контент → закрывающий тег.\n",
    "\n",
    "У тегов также могут быть атрибуты. Атрибуты – это определенная дополнительная информация. Атрибуты определяются в открывающем теге, а их значения всегда заключаются в кавычки. Все это выглядит следующим образом:\n",
    "\n",
    "`<тег атрибут=\"значение\">контент</тег>`\n",
    "\n",
    "В коде выше я также использовал тег `<meta>`. Он никак не меняет вид страницы, но позволяет задать дополнительную информацию. В этом случае я задаю кодировку. `/` в конце этого тега означает, что он сам является закрывающим к себе."
   ]
  },
  {
   "cell_type": "markdown",
   "metadata": {},
   "source": [
    "## Заголовок страницы"
   ]
  },
  {
   "cell_type": "raw",
   "metadata": {},
   "source": [
    "<!DOCTYPE html>\n",
    "<meta charset=\"utf-8\" />\n",
    "<html>\n",
    "<head>\n",
    "    <title>Моя первая веб-страница</title>\n",
    "</head>\n",
    "<body>\n",
    "    Это моя первая веб-страница\n",
    "</body>\n",
    "</html>"
   ]
  },
  {
   "cell_type": "markdown",
   "metadata": {},
   "source": [
    "Мы добавили два новых элемента. Они начинаются с тегов `<head>` и `<title>`.\n",
    "\n",
    "Элемент `<head>` располагается перед элементом `<body>`. Он содержит информацию о веб-странице. Это и есть заголовок документа HTML. Информация, расположенная в элементе `<head>`, не отображается в окне браузера.\n",
    "\n",
    "Если вывести в браузер нашу вновь модифицированную веб-страницу, то вы увидите строку \"Моя первая веб-страница\", появившуюся в верхней части браузера, там, где всегда отображается название файла. Таким образом, текст, помещенный между тегами `<title>` и `</title>`, стал как бы названием веб-страницы. Если добавить эту веб-страницу в \"Избранное\", то вы заметите, что и здесь используется это же \"название\" страницы."
   ]
  },
  {
   "cell_type": "markdown",
   "metadata": {},
   "source": [
    "## Абзацы в HTML\n",
    "\n",
    "Если открыть в браузере страницу с кодом ниже, то к нашему удивлению текст не будет написан в две строчки, как мы написали в коде. Все сольется в одну строчку."
   ]
  },
  {
   "cell_type": "raw",
   "metadata": {},
   "source": [
    "<!DOCTYPE html>\n",
    "<meta charset=\"utf-8\" />\n",
    "<html>\n",
    "<head>\n",
    "    <title>Моя первая веб-страница</title>\n",
    "</head>\n",
    "<body>\n",
    "    Это моя первая веб-страница\n",
    "    Строка 2\n",
    "</body>\n",
    "</html>"
   ]
  },
  {
   "cell_type": "markdown",
   "metadata": {},
   "source": [
    "Чтобы структурировать текст на странице, нужно обернуть каждый абзац в тег `<p>`. Попробуем:"
   ]
  },
  {
   "cell_type": "raw",
   "metadata": {},
   "source": [
    "<!DOCTYPE html>\n",
    "<meta charset=\"utf-8\" />\n",
    "<html>\n",
    "<head>\n",
    "    <title>Моя первая веб-страница</title>\n",
    "</head>\n",
    "<body>\n",
    "    <p>Это моя первая веб-страницы</p>\n",
    "    <p>Строка 2</p>\n",
    "</body>\n",
    "</html>"
   ]
  },
  {
   "cell_type": "markdown",
   "metadata": {},
   "source": [
    "Для разделения строк можно также пользоваться тегом `<br />`. Этот тег тоже не имеет закрывающего, а значит нам нужно в нем вставить `/`, который будет говорить, что он сам себя закрывает.\n",
    "\n",
    "Чтобы выделить текст жирным, можно воспользоваться тегом `<strong>`."
   ]
  },
  {
   "cell_type": "raw",
   "metadata": {},
   "source": [
    "<!DOCTYPE html>\n",
    "<meta charset=\"utf-8\" />\n",
    "<html>\n",
    "<head>\n",
    "    <title>Моя первая веб-страница</title>\n",
    "</head>\n",
    "<body>\n",
    "    Это моя первая веб-страница <br />\n",
    "    <strong>Строка 2</strong>\n",
    "</body>\n",
    "</html>"
   ]
  },
  {
   "cell_type": "markdown",
   "metadata": {},
   "source": [
    "## Текстовые заголовки\n",
    "\n",
    "Тег `<p>` –– это всего лишь один из тегов форматирования текста.\n",
    "\n",
    "Если у вас есть документы с настоящими заголовками, то следующие теги HTML вам очень пригодятся.\n",
    "\n",
    "Это теги `<h1>`, `<h2>`, `<h3>`, `<h4>`, `<h5>` и `<h6>`. Тег `<h1>` –– это самый крупный заголовок, а тег `<h6>` –– самый маленький.\n",
    "\n",
    "Посмотрим, как все это работает:"
   ]
  },
  {
   "cell_type": "raw",
   "metadata": {},
   "source": [
    "<!DOCTYPE html>\n",
    "<meta charset=\"utf-8\" />\n",
    "\n",
    "<html>\n",
    "<head>\n",
    "    <title>Моя первая веб-страница</title>\n",
    "</head>\n",
    "<body>\n",
    "   <h1>Моя первая веб-страница</h1>\n",
    "   <h2>Что это такое</h2>\n",
    "   <p>Простая страница, созданная при помощи HTML</p>\n",
    "   \n",
    "   <h2>Для чего это нужно</h2>\n",
    "   <p>Чтобы изучить HTML</p>\n",
    "</body>\n",
    "</html>"
   ]
  },
  {
   "cell_type": "markdown",
   "metadata": {},
   "source": [
    "Обратите внимание, что тег `<h1>` мы использовали всего один раз. Это потому что он считается основным заголовком страницы и не должен использоваться больше одного раза на странице.\n",
    "\n",
    "Тем не менее, все остальные теги заголовков от `<h2>` до `<h6>` можно использовать столько раз сколько хотите. Однако их всегда следует использовать в соответствующем порядке. Например, `<h4>` должен быть подзаголовком `<h3>`, который в свою очередь должен быть подзаголовком `<h2>`."
   ]
  },
  {
   "cell_type": "markdown",
   "metadata": {},
   "source": [
    "## Списки\n",
    "\n",
    "Существует три типа списков: упорядоченные, неупорядоченные и списки определений. Здесь мы рассмотрим первые два вида списков.\n",
    "\n",
    "Упорядоченные и неупорядоченные списки работают одинаково, за исключением того, что последние используются для представления непоследовательных списков, элементы которых обычно маркируются крупной черной точкой, а первые используются для представления последовательных списков, которые обычно имеют вид элементов пронумерованных в возрастающем порядке.\n",
    "\n",
    "Для определения неупорядоченных списков используется тег `<ul>` –– unordered list, а для определения упорядоченных списков – тег `<ol>` –– ordered list. Внутри списков для определения каждого отдельного элемента списка используется тег `<li>` –– list item."
   ]
  },
  {
   "cell_type": "raw",
   "metadata": {},
   "source": [
    "<!DOCTYPE html>\n",
    "<meta charset=\"utf-8\" />\n",
    "\n",
    "<html>\n",
    "<head>\n",
    "    <title>Моя первая веб-страница</title>\n",
    "</head>\n",
    "<body>\n",
    "   <h1>Моя первая веб-страница</h1>\n",
    "   <h2>Что это такое</h2>\n",
    "   <p>Простая страница, созданная при помощи HTML</p>\n",
    "\n",
    "   <h2>Заголовок 2</h2>\n",
    "   <ul>\n",
    "       <li>Элемент 1</li>\n",
    "       <li>Элемент 2</li>\n",
    "   </ul>\n",
    "</body>\n",
    "</html>"
   ]
  },
  {
   "cell_type": "markdown",
   "metadata": {},
   "source": [
    "Если посмотреть эту веб-страницу в браузере, то увидите список, маркированный буллитами. Замените тег `<ul>` на тег `<ol>`, и вы увидите, что список стал нумерованным.\n",
    "\n",
    "Кроме всего прочего можно включать одни списки в другие, формируя структурированную иерархию элементов."
   ]
  },
  {
   "cell_type": "raw",
   "metadata": {},
   "source": [
    "<!DOCTYPE html>\n",
    "<meta charset=\"utf-8\" />\n",
    "\n",
    "<html>\n",
    "<head>\n",
    "    <title>Моя первая веб-страница</title>\n",
    "</head>\n",
    "<body>\n",
    "   <h1>Моя первая веб-страница</h1>\n",
    "   <h2>Что это такое</h2>\n",
    "   <p>Простая страница, созданная при помощи HTML</p>\n",
    "   <h2>Заголовок 2</h2>\n",
    "   <ul>\n",
    "       <li>\n",
    "          Элемент 1\n",
    "       \t  <ol>\n",
    "       \t    <li> Подэлемент 1 </li>\n",
    "       \t    <li> Подэлемент 2 </li>\n",
    "       \t    <li> Подэлемент 3 </li>\n",
    "       \t  </ol>\n",
    "       </li>\n",
    "       <li>Элемент 2</li>\n",
    "   </ul>\n",
    "</body>\n",
    "</html>"
   ]
  },
  {
   "cell_type": "markdown",
   "metadata": {},
   "source": [
    "И вот у нас список внутри списка. А ведь можно поместить еще один список внутри этого вложенного списка. И еще один."
   ]
  },
  {
   "cell_type": "markdown",
   "metadata": {},
   "source": [
    "## Ссылки\n",
    "\n",
    "Чтобы определить ссылку, используется тег `<a>`, однако этому тегу требуется направление ссылки. Это то, куда будет попадать пользователь при нажатии на ссылку."
   ]
  },
  {
   "cell_type": "raw",
   "metadata": {},
   "source": [
    "<!DOCTYPE html>\n",
    "<meta charset=\"utf-8\" />\n",
    "\n",
    "<html>\n",
    "<head>\n",
    "    <title>Моя первая веб-страница</title>\n",
    "</head>\n",
    "<body>\n",
    "   <h1>Моя первая веб-страница</h1>\n",
    "   <p>Простая страница, созданная при помощи HTML</p>\n",
    "   \n",
    "   <p><a href=\"https://vk.com/artem_ismagilow\"> Мой VK </a></p>\n",
    "   \n",
    "</body>\n",
    "</html>"
   ]
  },
  {
   "cell_type": "markdown",
   "metadata": {},
   "source": [
    "Направление ссылки задается в атрибуте `href` тега `<a>`. Ссылка может быть абсолютной, или относительной, указывающей на текущую страницу. Таким образом, если, например, у вас другой файл с именем \"page2.html\", то код примет вид `<a href='page2.html'>Страница 2</a>`.\n",
    "\n",
    "Ссылка не обязательно должна ссылаться на другой HTML файл. Она может ссылаться на любой файл в сети.\n",
    "\n",
    "Кроме этого ссылка может отсылать пользователя к другой части той же самой страницы. Для этого нужно добавить атрибут `id` к любому тегу, например, `<h2 id=\"some_id\">Какая-то информация</h2>`, а затем создать ссылку на этот тег, например, следующим образом:<br>`<a href=\"#some_id\">Перейти к какой-то информации</a>`. При нажатии на такую ссылку браузер перелистнет страницу прямо к элементу с данным идентификатором id."
   ]
  },
  {
   "cell_type": "markdown",
   "metadata": {},
   "source": [
    "## Таблицы\n",
    "\n",
    "Таблица создается с помощью тега `<table>`. Тег `<tr>` отвечает за строку таблицы, а тег `<td>` –– за одну ячейку.\n",
    "\n",
    "Для того, чтобы добавить границы между ячейками, используется атрибут `border` у тега `<table>`. Его нужно поставить равным ширине границы."
   ]
  },
  {
   "cell_type": "raw",
   "metadata": {},
   "source": [
    "<!DOCTYPE html>\n",
    "<meta charset=\"utf-8\" />\n",
    "\n",
    "<html>\n",
    "<head>\n",
    "    <title>Моя первая веб-страница</title>\n",
    "</head>\n",
    "<body>\n",
    "   <table border=\"1\">\n",
    "    <tr>\n",
    "         <td>Строка 1, ячейка 1</td>\n",
    "         <td>Строка 1, ячейка 2</td>\n",
    "         <td>Строка 1, ячейка 3</td>\n",
    "    </tr>\n",
    "    <tr>\n",
    "         <td>Строка 2, ячейка 1</td>\n",
    "         <td>Строка 2, ячейка 2</td>\n",
    "         <td>Строка 2, ячейка 3</td>\n",
    "    </tr>\n",
    "    <tr>\n",
    "         <td>Строка 3, ячейка 1</td>\n",
    "         <td>Строка 3, ячейка 2</td>\n",
    "         <td>Строка 3, ячейка 3</td>\n",
    "    </tr>\n",
    "    <tr>\n",
    "         <td>Строка 4, ячейка 1</td>\n",
    "         <td>Строка 4, ячейка 2</td>\n",
    "         <td>Строка 4, ячейка 3</td>\n",
    "    </tr>\n",
    "   </table>\n",
    "   \n",
    "</body>\n",
    "</html>"
   ]
  },
  {
   "cell_type": "markdown",
   "metadata": {},
   "source": [
    "Если вместо `<td>` использовать `<th>`, то соответствующая ячейка будет выделена жирным. Этом можно использовать для задания заголовков столбцов или строк.\n",
    "\n",
    "Ячейка таблицы можно объединять. Для этого у тега `<td>` есть атрибуты `rowspan` и `colspan`. Они показывают, на сколько клеток вниз и вправо соответственно нужно объединить ячейки. Те ячейки, которые уже объединены с другой, не нужно описывать еще раз. То есть описание объединенных ячеек содержится только в левой верхней из них, а все остальные должны быть удалены из кода страницы."
   ]
  },
  {
   "cell_type": "raw",
   "metadata": {},
   "source": [
    "<!DOCTYPE html>\n",
    "<meta charset=\"utf-8\" />\n",
    "\n",
    "<html>\n",
    "<head>\n",
    "    <title>Моя первая веб-страница</title>\n",
    "</head>\n",
    "<body>\n",
    "  <table border=\"1\">\n",
    "   <tr>\n",
    "      <th>Заголовок столбца 1</th>\n",
    "      <th>Заголовок столбца 2</th>\n",
    "      <th>Заголовок столбца 3</th>\n",
    "   </tr>\n",
    "   <tr>\n",
    "      <td>Строка 2, ячейка 1</td>\n",
    "      <td colspan=\"2\">Строка 2, ячейка 2, также захватывается Строка 2, ячейка 3</td>\n",
    "   </tr>\n",
    "   <tr>\n",
    "      <td rowspan=\"2\">Строка 3, ячейка 1, также захватывается Строка 4, ячейка 1</td>\n",
    "      <td>Строка 3, ячейка 2</td>\n",
    "      <td>Строка 3, ячейка 3</td>\n",
    "   </tr>\n",
    "   <tr>\n",
    "      <td>Строка 4, ячейка 2</td>\n",
    "      <td>Строка 4, ячейка 3</td>\n",
    "   </tr>\n",
    "  </table>\n",
    "   \n",
    "</body>\n",
    "</html>"
   ]
  },
  {
   "cell_type": "markdown",
   "metadata": {},
   "source": [
    "## Дерево HTML\n",
    "\n",
    "Для каждого тега можно определить, в какой тег он непосредсттвенно вложен. Если нарисовать такое дерево, в котором родитель тега будет тем тегом, в который он непосредсвенно вложен, то у нас получится дерево парсинга HTML. Выглядит оно примерно так:\n",
    "\n",
    "![title](html_tree.png)\n",
    "\n"
   ]
  },
  {
   "cell_type": "markdown",
   "metadata": {},
   "source": [
    "Теперь видно, что все теги у нас вложены в тег `<html>`. В теге `<body>` есть текст \"Правда о лосях\" и нумерованный список, в котором в свою очередь есть элементы списка, в которых есть текст. И так для всех тегов.\n",
    "\n",
    "Обратите внимание, что теги расположены в дереве в порядке, в котором они идут в странице."
   ]
  },
  {
   "cell_type": "markdown",
   "metadata": {},
   "source": [
    "#### Зачем нам нужно это дерево?\n",
    "\n",
    "Дерево наглядно отражает структуру HTML-страницы. Мы сразу можем видеть, какой элемент к чему относится. Это не так важно, когда страница небольшая, но, например, если взять большую и сложную страницу, то там будет совершенно неясна структура при одном взгляде на код страницы. Дерево –– удобный способ наглядно представить структуру страницы.\n",
    "\n",
    "Дерево также полезно для парсинга HTML. Если мы хотим что-то автоматически достать из кода страницы, то мы должны понять, где искать. Если у нас есть дерево, то мы можем просто спуститься к какому-то тегу в его структуре.\n",
    "\n",
    "Ниже вы найдете пример кода большой страницы с википедии. Убедитесь, что по обычному тексту совершенно не видна структура страницы."
   ]
  },
  {
   "cell_type": "raw",
   "metadata": {},
   "source": [
    "<!DOCTYPE html>\n",
    "<html class=\"client-nojs\" lang=\"en\" dir=\"ltr\">\n",
    "<head>\n",
    "<meta charset=\"UTF-8\"/>\n",
    "<title>Nuclear weapon - Wikipedia</title>\n",
    "<script>document.documentElement.className=\"client-js\";RLCONF={\"wgBreakFrames\":!1,\"wgSeparatorTransformTable\":[\"\",\"\"],\"wgDigitTransformTable\":[\"\",\"\"],\"wgDefaultDateFormat\":\"dmy\",\"wgMonthNames\":[\"\",\"January\",\"February\",\"March\",\"April\",\"May\",\"June\",\"July\",\"August\",\"September\",\"October\",\"November\",\"December\"],\"wgRequestId\":\"c7ae159a-2900-43d3-ac05-6db337d9d1a7\",\"wgCSPNonce\":!1,\"wgCanonicalNamespace\":\"\",\"wgCanonicalSpecialPageName\":!1,\"wgNamespaceNumber\":0,\"wgPageName\":\"Nuclear_weapon\",\"wgTitle\":\"Nuclear weapon\",\"wgCurRevisionId\":965001559,\"wgRevisionId\":965001559,\"wgArticleId\":21785,\"wgIsArticle\":!0,\"wgIsRedirect\":!1,\"wgAction\":\"view\",\"wgUserName\":null,\"wgUserGroups\":[\"*\"],\"wgCategories\":[\"Harv and Sfn no-target errors\",\"Webarchive template wayback links\",\"All accuracy disputes\",\"Articles with disputed statements from July 2013\",\"CS1 maint: ref=harv\",\"Pages using web citations with no URL\",\"CS1 maint: multiple names: authors list\",\"Articles with short description\",\n",
    "\"Wikipedia pages semi-protected against vandalism\",\"Use mdy dates from December 2015\",\"Articles containing potentially dated statements from January 2016\",\"All articles containing potentially dated statements\",\"Wikipedia articles in need of updating from June 2013\",\"All Wikipedia articles in need of updating\",\"All articles with unsourced statements\",\"Articles with unsourced statements from June 2013\",\"Articles containing potentially dated statements from 2012\",\"Articles containing potentially dated statements from March 2009\",\"Articles to be expanded from July 2017\",\"All articles to be expanded\",\"Articles with empty sections from July 2017\",\"All articles with empty sections\",\"Articles using small message boxes\",\"Articles with French-language sources (fr)\",\"Spoken articles\",\"Articles with hAudio microformats\",\"All articles with dead external links\",\"Articles with dead external links from April 2020\",\"Articles with permanently dead external links\",\n",
    "\"Wikipedia articles contravening the Manual of Style for lists of works\",\"Wikipedia articles with BNF identifiers\",\"Wikipedia articles with GND identifiers\",\"Wikipedia articles with HDS identifiers\",\"Wikipedia articles with LCCN identifiers\",\"Wikipedia articles with NARA identifiers\",\"Wikipedia articles with NDL identifiers\",\"Articles containing video clips\",\"Nuclear weapons\",\"Weapons and ammunition introduced in 1945\",\"American inventions\",\"Bombs\",\"Nuclear bombs\"],\"wgPageContentLanguage\":\"en\",\"wgPageContentModel\":\"wikitext\",\"wgRelevantPageName\":\"Nuclear_weapon\",\"wgRelevantArticleId\":21785,\"wgIsProbablyEditable\":!1,\"wgRelevantPageIsProbablyEditable\":!1,\"wgRestrictionEdit\":[\"autoconfirmed\"],\"wgRestrictionMove\":[\"sysop\"],\"wgMediaViewerOnClick\":!0,\"wgMediaViewerEnabledByDefault\":!0,\"wgPopupsReferencePreviews\":!1,\"wgPopupsConflictsWithNavPopupGadget\":!1,\"wgVisualEditor\":{\"pageLanguageCode\":\"en\",\"pageLanguageDir\":\"ltr\",\"pageVariantFallbacks\":\"en\"},\n",
    "\"wgMFDisplayWikibaseDescriptions\":{\"search\":!0,\"nearby\":!0,\"watchlist\":!0,\"tagline\":!1},\"wgWMESchemaEditAttemptStepOversample\":!1,\"wgULSCurrentAutonym\":\"English\",\"wgNoticeProject\":\"wikipedia\",\"wgCentralAuthMobileDomain\":!1,\"wgEditSubmitButtonLabelPublish\":!0,\"wgULSPosition\":\"interlanguage\",\"wgWikibaseItemId\":\"Q12802\"};RLSTATE={\"ext.globalCssJs.user.styles\":\"ready\",\"site.styles\":\"ready\",\"noscript\":\"ready\",\"user.styles\":\"ready\",\"ext.globalCssJs.user\":\"ready\",\"user\":\"ready\",\"user.options\":\"loading\",\"ext.cite.styles\":\"ready\",\"ext.tmh.thumbnail.styles\":\"ready\",\"skins.vector.styles.legacy\":\"ready\",\"jquery.makeCollapsible.styles\":\"ready\",\"mediawiki.toc.styles\":\"ready\",\"ext.visualEditor.desktopArticleTarget.noscript\":\"ready\",\"ext.uls.interlanguage\":\"ready\",\"ext.wikimediaBadges\":\"ready\",\"wikibase.client.init\":\"ready\"};RLPAGEMODULES=[\"ext.cite.ux-enhancements\",\"mw.MediaWikiPlayer.loader\",\"mw.PopUpMediaTransform\",\"mw.TMHGalleryHook.js\",\"ext.scribunto.logs\",\"site\",\n",
    "\"mediawiki.page.startup\",\"mediawiki.page.ready\",\"jquery.makeCollapsible\",\"mediawiki.toc\",\"skins.vector.legacy.js\",\"ext.gadget.ReferenceTooltips\",\"ext.gadget.charinsert\",\"ext.gadget.extra-toolbar-buttons\",\"ext.gadget.refToolbar\",\"ext.gadget.switcher\",\"ext.centralauth.centralautologin\",\"mmv.head\",\"mmv.bootstrap.autostart\",\"ext.popups\",\"ext.visualEditor.desktopArticleTarget.init\",\"ext.visualEditor.targetLoader\",\"ext.eventLogging\",\"ext.wikimediaEvents\",\"ext.navigationTiming\",\"ext.uls.compactlinks\",\"ext.uls.interface\",\"ext.cx.eventlogging.campaigns\",\"ext.quicksurveys.init\",\"ext.centralNotice.geoIP\",\"ext.centralNotice.startUp\"];</script>\n",
    "<script>(RLQ=window.RLQ||[]).push(function(){mw.loader.implement(\"user.options@1hzgi\",function($,jQuery,require,module){/*@nomin*/mw.user.tokens.set({\"patrolToken\":\"+\\\\\",\"watchToken\":\"+\\\\\",\"csrfToken\":\"+\\\\\"});\n",
    "});});</script>\n",
    "<link rel=\"stylesheet\" href=\"/w/load.php?lang=en&amp;modules=ext.cite.styles%7Cext.tmh.thumbnail.styles%7Cext.uls.interlanguage%7Cext.visualEditor.desktopArticleTarget.noscript%7Cext.wikimediaBadges%7Cjquery.makeCollapsible.styles%7Cmediawiki.toc.styles%7Cskins.vector.styles.legacy%7Cwikibase.client.init&amp;only=styles&amp;skin=vector\"/>\n",
    "<script async=\"\" src=\"/w/load.php?lang=en&amp;modules=startup&amp;only=scripts&amp;raw=1&amp;skin=vector\"></script>\n",
    "<meta name=\"ResourceLoaderDynamicStyles\" content=\"\"/>\n",
    "<link rel=\"stylesheet\" href=\"/w/load.php?lang=en&amp;modules=site.styles&amp;only=styles&amp;skin=vector\"/>\n",
    "<meta name=\"generator\" content=\"MediaWiki 1.35.0-wmf.40\"/>\n",
    "<meta name=\"referrer\" content=\"origin\"/>\n",
    "<meta name=\"referrer\" content=\"origin-when-crossorigin\"/>\n",
    "<meta name=\"referrer\" content=\"origin-when-cross-origin\"/>\n",
    "<meta property=\"og:image\" content=\"https://upload.wikimedia.org/wikipedia/commons/6/6a/Little_boy.jpg\"/>\n",
    "<link rel=\"apple-touch-icon\" href=\"/static/apple-touch/wikipedia.png\"/>\n",
    "<link rel=\"shortcut icon\" href=\"/static/favicon/wikipedia.ico\"/>\n",
    "<link rel=\"search\" type=\"application/opensearchdescription+xml\" href=\"/w/opensearch_desc.php\" title=\"Wikipedia (en)\"/>\n",
    "<link rel=\"EditURI\" type=\"application/rsd+xml\" href=\"//en.wikipedia.org/w/api.php?action=rsd\"/>\n",
    "<link rel=\"license\" href=\"//creativecommons.org/licenses/by-sa/3.0/\"/>\n",
    "<link rel=\"alternate\" type=\"application/atom+xml\" title=\"Wikipedia Atom feed\" href=\"/w/index.php?title=Special:RecentChanges&amp;feed=atom\"/>\n",
    "<link rel=\"canonical\" href=\"https://en.wikipedia.org/wiki/Nuclear_weapon\"/>\n",
    "<link rel=\"dns-prefetch\" href=\"//login.wikimedia.org\"/>\n",
    "<link rel=\"dns-prefetch\" href=\"//meta.wikimedia.org\" />\n",
    "<!--[if lt IE 9]><script src=\"/w/resources/lib/html5shiv/html5shiv.js\"></script><![endif]-->\n",
    "</head>\n",
    "<body class=\"mediawiki ltr sitedir-ltr mw-hide-empty-elt ns-0 ns-subject page-Nuclear_weapon rootpage-Nuclear_weapon skin-vector action-view skin-vector-legacy minerva--history-page-action-enabled\">\n",
    "<div id=\"mw-page-base\" class=\"noprint\"></div>\n",
    "<div id=\"mw-head-base\" class=\"noprint\"></div>\n",
    "<div id=\"content\" class=\"mw-body\" role=\"main\">\n",
    "\t<a id=\"top\"></a>\n",
    "\t\t<div id=\"siteNotice\" class=\"mw-body-content\"><!-- CentralNotice --></div>\n",
    "\t<div class=\"mw-indicators mw-body-content\">\n",
    "\t<div id=\"mw-indicator-pp-default\" class=\"mw-indicator\"><a href=\"/wiki/Wikipedia:Protection_policy#semi\" title=\"This article is semi-protected due to vandalism\"><img alt=\"Page semi-protected\" src=\"//upload.wikimedia.org/wikipedia/en/thumb/1/1b/Semi-protection-shackle.svg/20px-Semi-protection-shackle.svg.png\" decoding=\"async\" width=\"20\" height=\"20\" srcset=\"//upload.wikimedia.org/wikipedia/en/thumb/1/1b/Semi-protection-shackle.svg/30px-Semi-protection-shackle.svg.png 1.5x, //upload.wikimedia.org/wikipedia/en/thumb/1/1b/Semi-protection-shackle.svg/40px-Semi-protection-shackle.svg.png 2x\" data-file-width=\"512\" data-file-height=\"512\" /></a></div>\n",
    "\t<div id=\"mw-indicator-spoken-icon\" class=\"mw-indicator\"><a href=\"/wiki/File:Nuclear_Weapon.ogg\" title=\"Listen to this article\"><img alt=\"Listen to this article\" src=\"//upload.wikimedia.org/wikipedia/commons/thumb/4/47/Sound-icon.svg/20px-Sound-icon.svg.png\" decoding=\"async\" width=\"20\" height=\"15\" srcset=\"//upload.wikimedia.org/wikipedia/commons/thumb/4/47/Sound-icon.svg/30px-Sound-icon.svg.png 1.5x, //upload.wikimedia.org/wikipedia/commons/thumb/4/47/Sound-icon.svg/40px-Sound-icon.svg.png 2x\" data-file-width=\"128\" data-file-height=\"96\" /></a></div>\n",
    "\t</div>\n",
    "\t<h1 id=\"firstHeading\" class=\"firstHeading\" lang=\"en\">Nuclear weapon</h1>\n",
    "\t\n",
    "\t<div id=\"bodyContent\" class=\"mw-body-content\">\n",
    "\t\t<div id=\"siteSub\" class=\"noprint\">From Wikipedia, the free encyclopedia</div>\n",
    "\t\t<div id=\"contentSub\"></div>\n",
    "\t\t\n",
    "\t\t\n",
    "\t\t<div id=\"jump-to-nav\"></div>\n",
    "\t\t<a class=\"mw-jump-link\" href=\"#mw-head\">Jump to navigation</a>\n",
    "\t\t<a class=\"mw-jump-link\" href=\"#searchInput\">Jump to search</a>\n",
    "\t\t<div id=\"mw-content-text\" lang=\"en\" dir=\"ltr\" class=\"mw-content-ltr\"><div class=\"mw-parser-output\"><div class=\"shortdescription nomobile noexcerpt noprint searchaux\" style=\"display:none\">Explosive device that derives its destructive force from nuclear reactions</div>\n",
    "<div role=\"note\" class=\"hatnote navigation-not-searchable\">\"Atom bomb\" redirects here. For other uses, see <a href=\"/wiki/Atom_bomb_(disambiguation)\" class=\"mw-disambig\" title=\"Atom bomb (disambiguation)\">Atom bomb (disambiguation)</a>.</div>\n",
    "<div role=\"note\" class=\"hatnote navigation-not-searchable\">\"Atomic Bomb\" redirects here. For the album, see <a href=\"/wiki/Atomic_Bomb_(album)\" title=\"Atomic Bomb (album)\">Atomic Bomb (album)</a>.</div>\n",
    "<p class=\"mw-empty-elt\">\n",
    "\n",
    "</p>\n",
    "<table class=\"vertical-navbox nowraplinks hlist\" style=\"float:right;clear:right;width:22.0em;margin:0 0 1.0em 1.0em;background:#f8f9fa;border:1px solid #aaa;padding:0.2em;border-spacing:0.4em 0;text-align:center;line-height:1.4em;font-size:88%;width:;\"><tbody><tr><th style=\"padding:0.2em 0.4em 0.2em;font-size:145%;line-height:1.2em\"><a class=\"mw-selflink selflink\">Nuclear weapons</a></th></tr><tr><td style=\"padding:0.2em 0 0.4em\"><a href=\"/wiki/File:Little_boy.jpg\" class=\"image\"><img alt=\"Photograph of a mock-up of the Little Boy nuclear weapon dropped on Hiroshima, Japan, in August 1945.\" src=\"//upload.wikimedia.org/wikipedia/commons/thumb/6/6a/Little_boy.jpg/170px-Little_boy.jpg\" decoding=\"async\" width=\"170\" height=\"112\" class=\"thumbborder\" srcset=\"//upload.wikimedia.org/wikipedia/commons/thumb/6/6a/Little_boy.jpg/255px-Little_boy.jpg 1.5x, //upload.wikimedia.org/wikipedia/commons/thumb/6/6a/Little_boy.jpg/340px-Little_boy.jpg 2x\" data-file-width=\"703\" data-file-height=\"462\" /></a></td></tr><tr><th style=\"padding:0.1em;background:#eee;\">\n",
    "Background</th></tr><tr><td style=\"padding:0 0.1em 0.4em\">\n",
    "<ul><li><a href=\"/wiki/History_of_nuclear_weapons\" title=\"History of nuclear weapons\">History</a></li>\n",
    "<li><a href=\"/wiki/Nuclear_warfare\" title=\"Nuclear warfare\">Warfare</a></li>\n",
    "<li><a href=\"/wiki/Nuclear_weapon_design\" title=\"Nuclear weapon design\">Design</a></li>\n",
    "<li><a href=\"/wiki/Nuclear_weapons_testing\" title=\"Nuclear weapons testing\">Testing</a></li>\n",
    "<li><a href=\"/wiki/Nuclear_weapons_delivery\" title=\"Nuclear weapons delivery\">Delivery</a></li>\n",
    "<li><a href=\"/wiki/Nuclear_weapon_yield\" title=\"Nuclear weapon yield\">Yield</a></li></ul>\n",
    "<ul><li><a href=\"/wiki/Effects_of_nuclear_explosions\" title=\"Effects of nuclear explosions\">Effects</a> and <a href=\"/wiki/List_of_projected_death_tolls_from_nuclear_attacks_on_cities\" title=\"List of projected death tolls from nuclear attacks on cities\">estimated megadeaths</a> of <a href=\"/wiki/Nuclear_explosion\" title=\"Nuclear explosion\">explosions</a></li></ul>\n",
    "<ul><li><a href=\"/wiki/Nuclear_winter\" title=\"Nuclear winter\">Winter</a></li>\n",
    "<li><a href=\"/wiki/Nuclear_labor_issues\" title=\"Nuclear labor issues\">Workers</a></li>\n",
    "<li><a href=\"/wiki/Nuclear_ethics\" title=\"Nuclear ethics\">Ethics</a></li></ul>\n",
    "<ul><li><a href=\"/wiki/List_of_nuclear_weapons\" title=\"List of nuclear weapons\">Arsenals</a></li>\n",
    "<li><a href=\"/wiki/Nuclear_arms_race\" title=\"Nuclear arms race\">Arms race</a></li>\n",
    "<li><a href=\"/wiki/Nuclear_espionage\" title=\"Nuclear espionage\">Espionage</a></li>\n",
    "<li><a href=\"/wiki/Nuclear_proliferation\" title=\"Nuclear proliferation\">Proliferation</a></li>\n",
    "<li><a href=\"/wiki/Nuclear_disarmament\" title=\"Nuclear disarmament\">Disarmament</a></li>\n",
    "<li><a href=\"/wiki/Nuclear_terrorism\" title=\"Nuclear terrorism\">Terrorism</a></li>\n",
    "<li><a href=\"/wiki/Anti-nuclear_movement\" title=\"Anti-nuclear movement\">Opposition</a></li></ul></td>\n",
    "</tr><tr><th style=\"padding:0.1em;background:#eee;\">\n",
    "<a href=\"/wiki/List_of_states_with_nuclear_weapons\" title=\"List of states with nuclear weapons\">Nuclear-armed states</a></th></tr><tr><td style=\"padding:0 0.1em 0.4em\">\n",
    "<dl><dd><i><a href=\"/wiki/Treaty_on_the_Non-Proliferation_of_Nuclear_Weapons\" title=\"Treaty on the Non-Proliferation of Nuclear Weapons\">NPT</a> recognized</i><br /><a href=\"/wiki/United_States_and_weapons_of_mass_destruction\" title=\"United States and weapons of mass destruction\">United States</a></dd>\n",
    "<dd><a href=\"/wiki/Russia_and_weapons_of_mass_destruction\" title=\"Russia and weapons of mass destruction\">Russia</a></dd>\n",
    "<dd><a href=\"/wiki/Nuclear_weapons_and_the_United_Kingdom\" title=\"Nuclear weapons and the United Kingdom\">United Kingdom</a></dd>\n",
    "<dd><a href=\"/wiki/France_and_weapons_of_mass_destruction\" title=\"France and weapons of mass destruction\">France</a></dd>\n",
    "<dd><a href=\"/wiki/China_and_weapons_of_mass_destruction\" title=\"China and weapons of mass destruction\">China</a></dd></dl>\n",
    "<dl><dd><i>Others</i><br /><a href=\"/wiki/India_and_weapons_of_mass_destruction\" title=\"India and weapons of mass destruction\">India</a></dd>\n",
    "<dd><a href=\"/wiki/Nuclear_weapons_and_Israel\" title=\"Nuclear weapons and Israel\">Israel</a>&#160;<span style=\"font-size:90%;\">(undeclared)</span></dd>\n",
    "<dd><a href=\"/wiki/Pakistan_and_weapons_of_mass_destruction\" title=\"Pakistan and weapons of mass destruction\">Pakistan</a></dd>\n",
    "<dd><a href=\"/wiki/North_Korea_and_weapons_of_mass_destruction\" title=\"North Korea and weapons of mass destruction\">North Korea</a></dd></dl>\n",
    "<dl><dd><i>Former</i><br /><a href=\"/wiki/South_Africa_and_weapons_of_mass_destruction\" title=\"South Africa and weapons of mass destruction\">South Africa</a></dd>\n",
    "<dd><a href=\"/wiki/List_of_states_with_nuclear_weapons#Former_Soviet_Republics\" title=\"List of states with nuclear weapons\">Belarus </a></dd>\n",
    "\n",
    "..."
   ]
  },
  {
   "cell_type": "markdown",
   "metadata": {},
   "source": [
    "На следующей лекции мы научимся скачивать код страниц из интернета и доставать из них нужную нам информацию."
   ]
  }
 ],
 "metadata": {
  "kernelspec": {
   "display_name": "Python 3",
   "language": "python",
   "name": "python3"
  },
  "language_info": {
   "codemirror_mode": {
    "name": "ipython",
    "version": 3
   },
   "file_extension": ".py",
   "mimetype": "text/x-python",
   "name": "python",
   "nbconvert_exporter": "python",
   "pygments_lexer": "ipython3",
   "version": "3.6.4"
  }
 },
 "nbformat": 4,
 "nbformat_minor": 2
}
