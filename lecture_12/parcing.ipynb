{
 "cells": [
  {
   "cell_type": "code",
   "execution_count": 21,
   "metadata": {},
   "outputs": [
    {
     "name": "stdout",
     "output_type": "stream",
     "text": [
      "/news/448448\n"
     ]
    }
   ],
   "source": [
    "from bs4 import BeautifulSoup\n",
    "import requests\n",
    "\n",
    "url = 'https://www.bfm.ru'\n",
    "\n",
    "contents = requests.get(url).text\n",
    "soup = BeautifulSoup(contents, 'lxml')\n",
    "news = soup.find_all('div', {'class': 'block-news-container'})\n",
    "#news = soup.find_all('figcaption')\n",
    "main = soup.find('div', {'class': 'main-container'}).find('a')['href']\n",
    "\n",
    "#for item in news:\n",
    "#    print(item.prettify())\n",
    "print(main)"
   ]
  },
  {
   "cell_type": "code",
   "execution_count": 17,
   "metadata": {},
   "outputs": [
    {
     "name": "stdout",
     "output_type": "stream",
     "text": [
      "<figure class=\"article-figure\"><img alt=\"Акция протеста в Минске.\" src=\"https://cdn.bfm.ru/news/maindocumentphoto/2020/07/14/tass_40588789bel.jpg\" width=\"455\"/><figcaption>  Акция протеста в Минске.  Фото: Наталия Федосенко/ТАСС  </figcaption></figure>\n",
      "По прогнозам политологов, опрошенных Business FM, 10 августа в Минске объявят о победе Лукашенко, потому что «в Белоруссии не считают голоса»\n"
     ]
    }
   ],
   "source": [
    "from bs4 import BeautifulSoup\n",
    "import requests\n",
    "\n",
    "url = 'https://www.bfm.ru/news/448369'\n",
    "\n",
    "contents = requests.get(url).text\n",
    "soup = BeautifulSoup(contents, 'lxml')\n",
    "news = soup.find('figure', {'class': 'article-figure'})\n",
    "\n",
    "img = news.find('img')['src']\n",
    "date = soup.find('span', {'class': 'date'}).find(text=True).strip()\n",
    "title = soup.find('h1', {'class': 'news-title'}).find(text=True).strip()\n",
    "short_text = soup.find('p', {'class': 'about-article'}).find(text=True).strip()\n",
    "\n",
    "print(news)\n",
    "print(short_text)"
   ]
  },
  {
   "cell_type": "code",
   "execution_count": 6,
   "metadata": {},
   "outputs": [
    {
     "name": "stdout",
     "output_type": "stream",
     "text": [
      "<div class=\"scrollable-table\">\n",
      " <table>\n",
      "  <thead>\n",
      "   <tr>\n",
      "    <th>\n",
      "     Регулярка\n",
      "    </th>\n",
      "    <th>\n",
      "     Её смысл\n",
      "    </th>\n",
      "   </tr>\n",
      "  </thead>\n",
      "  <tbody>\n",
      "   <tr>\n",
      "    <td>\n",
      "     <code>\n",
      "      simple text\n",
      "     </code>\n",
      "    </td>\n",
      "    <td>\n",
      "     В точности текст «simple text»\n",
      "    </td>\n",
      "   </tr>\n",
      "   <tr>\n",
      "    <td>\n",
      "     <code>\n",
      "      \\d{5}\n",
      "     </code>\n",
      "    </td>\n",
      "    <td>\n",
      "     Последовательности из 5 цифр\n",
      "     <br/>\n",
      "     <code>\n",
      "      \\d\n",
      "     </code>\n",
      "     означает любую цифру\n",
      "     <br/>\n",
      "     <code>\n",
      "      {5}\n",
      "     </code>\n",
      "     — ровно 5 раз\n",
      "    </td>\n",
      "   </tr>\n",
      "   <tr>\n",
      "    <td>\n",
      "     <code>\n",
      "      \\d\\d/\\d\\d/\\d{4}\n",
      "     </code>\n",
      "    </td>\n",
      "    <td>\n",
      "     Даты в формате ДД/ММ/ГГГГ\n",
      "     <br/>\n",
      "     (и прочие куски, на них похожие, например, 98/76/5432)\n",
      "    </td>\n",
      "   </tr>\n",
      "   <tr>\n",
      "    <td>\n",
      "     <code>\n",
      "      \\b\\w{3}\\b\n",
      "     </code>\n",
      "    </td>\n",
      "    <td>\n",
      "     Слова в точности из трёх букв\n",
      "     <br/>\n",
      "     <code>\n",
      "      \\b\n",
      "     </code>\n",
      "     означает границу слова\n",
      "     <br/>\n",
      "     (с одной стороны буква, а с другой — нет)\n",
      "     <br/>\n",
      "     <code>\n",
      "      \\w\n",
      "     </code>\n",
      "     — любая буква,\n",
      "     <br/>\n",
      "     <code>\n",
      "      {3}\n",
      "     </code>\n",
      "     — ровно три раза\n",
      "    </td>\n",
      "   </tr>\n",
      "   <tr>\n",
      "    <td>\n",
      "     <code>\n",
      "      [-+]?\\d+\n",
      "     </code>\n",
      "    </td>\n",
      "    <td>\n",
      "     Целое число, например, 7, +17, -42, 0013 (возможны ведущие нули)\n",
      "     <br/>\n",
      "     <code>\n",
      "      [-+]?\n",
      "     </code>\n",
      "     — либо -, либо +, либо пусто\n",
      "     <br/>\n",
      "     <code>\n",
      "      \\d+\n",
      "     </code>\n",
      "     — последовательность из 1 или более цифр\n",
      "    </td>\n",
      "   </tr>\n",
      "   <tr>\n",
      "    <td>\n",
      "     <code>\n",
      "      [-+]?(?:\\d+(?:\\.\\d*)?|\\.\\d+)(?:[eE][-+]?\\d+)?\n",
      "     </code>\n",
      "    </td>\n",
      "    <td>\n",
      "     Действительное число, возможно в экспоненциальной записи\n",
      "     <br/>\n",
      "     Например, 0.2, +5.45, -.4, 6e23, -3.17E-14.\n",
      "     <br/>\n",
      "     См. ниже картинку.\n",
      "    </td>\n",
      "   </tr>\n",
      "  </tbody>\n",
      " </table>\n",
      "</div>\n",
      "\n"
     ]
    }
   ],
   "source": [
    "from bs4 import BeautifulSoup\n",
    "import requests\n",
    "\n",
    "url = 'https://habr.com/ru/post/349860/'\n",
    "\n",
    "contents = requests.get(url).text\n",
    "soup = BeautifulSoup(contents, 'lxml')\n",
    "table = soup.find_all('div', {'class': 'scrollable-table'})[0]\n",
    "\n",
    "print(table.prettify())"
   ]
  },
  {
   "cell_type": "code",
   "execution_count": 10,
   "metadata": {},
   "outputs": [
    {
     "ename": "ModuleNotFoundError",
     "evalue": "No module named 'fake_useragent'",
     "output_type": "error",
     "traceback": [
      "\u001b[1;31m---------------------------------------------------------------------------\u001b[0m",
      "\u001b[1;31mModuleNotFoundError\u001b[0m                       Traceback (most recent call last)",
      "\u001b[1;32m<ipython-input-10-f6c5699c15ce>\u001b[0m in \u001b[0;36m<module>\u001b[1;34m\u001b[0m\n\u001b[0;32m      1\u001b[0m \u001b[1;32mfrom\u001b[0m \u001b[0mbs4\u001b[0m \u001b[1;32mimport\u001b[0m \u001b[0mBeautifulSoup\u001b[0m\u001b[1;33m\u001b[0m\u001b[1;33m\u001b[0m\u001b[0m\n\u001b[1;32m----> 2\u001b[1;33m \u001b[1;32mfrom\u001b[0m \u001b[0mfake_useragent\u001b[0m \u001b[1;32mimport\u001b[0m \u001b[0mUserAgent\u001b[0m\u001b[1;33m\u001b[0m\u001b[1;33m\u001b[0m\u001b[0m\n\u001b[0m\u001b[0;32m      3\u001b[0m \u001b[1;32mimport\u001b[0m \u001b[0mrequests\u001b[0m\u001b[1;33m\u001b[0m\u001b[1;33m\u001b[0m\u001b[0m\n\u001b[0;32m      4\u001b[0m \u001b[1;33m\u001b[0m\u001b[0m\n\u001b[0;32m      5\u001b[0m \u001b[0murl\u001b[0m \u001b[1;33m=\u001b[0m \u001b[1;34m'http://www.anekdot.ru/best/anekdot/0630/'\u001b[0m\u001b[1;33m\u001b[0m\u001b[1;33m\u001b[0m\u001b[0m\n",
      "\u001b[1;31mModuleNotFoundError\u001b[0m: No module named 'fake_useragent'"
     ]
    }
   ],
   "source": [
    "from bs4 import BeautifulSoup\n",
    "from fake_useragent import UserAgent\n",
    "import requests\n",
    "\n",
    "url = 'http://www.anekdot.ru/best/anekdot/0630/'\n",
    "\n",
    "contents = requests.get(url, headers={'User-Agent': UserAgent().chrome}).text\n",
    "print(contents)\n",
    "soup = BeautifulSoup(contents, 'lxml')\n",
    "news = soup.findall('div', {'class': 'topicbox'})\n",
    "print(news)\n",
    "\n",
    "#img = news.find('img')['src']\n",
    "#date = soup.find('span', {'class': 'date'}).find(text=True).strip()\n",
    "#title = soup.find('h1', {'class': 'news-title'}).find(text=True).strip()\n",
    "#short_text = soup.find('p', {'class': 'about-article'}).find(text=True).strip()\n"
   ]
  },
  {
   "cell_type": "code",
   "execution_count": null,
   "metadata": {},
   "outputs": [],
   "source": []
  }
 ],
 "metadata": {
  "kernelspec": {
   "display_name": "Python 3",
   "language": "python",
   "name": "python3"
  },
  "language_info": {
   "codemirror_mode": {
    "name": "ipython",
    "version": 3
   },
   "file_extension": ".py",
   "mimetype": "text/x-python",
   "name": "python",
   "nbconvert_exporter": "python",
   "pygments_lexer": "ipython3",
   "version": "3.7.4"
  }
 },
 "nbformat": 4,
 "nbformat_minor": 2
}
