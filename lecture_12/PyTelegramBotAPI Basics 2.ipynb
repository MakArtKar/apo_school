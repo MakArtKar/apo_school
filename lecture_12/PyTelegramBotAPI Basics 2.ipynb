{
 "cells": [
  {
   "cell_type": "markdown",
   "metadata": {},
   "source": [
    "# Создание Телеграм-ботов. Больше о pyTelegramBotAPI\n",
    "\n",
    "Сегодня мы изучим еще пару фишек библиотеки pyTelegramBotAPI: научимся создавать кнопки к сообщениям, редактировать и удалять сообщения, вызывать всплывающие окна. Во второй половине лекции напишем бота-парсер новостного сайта.\n",
    "\n",
    "---\n",
    "\n",
    "Ссылки:\n",
    "* Описание всех методов и классов Telegram Bot API: https://core.telegram.org/bots/api\n",
    "* Краткая документация по pyTelegramBotAPI: https://pypi.org/project/pyTelegramBotAPI/\n",
    "* Справочник по Telegram Bot API: https://tlgrm.ru/docs/bots/api\n",
    "* Исходный код библиотеки pyTelegramBotAPI: https://github.com/eternnoir/pyTelegramBotAPI\n",
    "* Гайд по созданию Телеграм-ботов №1: https://m.habr.com/ru/post/350648/\n",
    "* Гайд по созданию Телеграм-ботов №2: https://mastergroosha.github.io/telegram-tutorial/"
   ]
  },
  {
   "cell_type": "markdown",
   "metadata": {},
   "source": [
    "# Редактирование/удаление сообщений\n",
    "\n",
    "Бот может редактировать уже отправленные сообщения, медиа, кнопки и т.д. Для этого используются методы, начинающиеся на `edit_message_`.  \n",
    "\n",
    "Бот может удалять отправленные сообщения. Для этого используется метод `delete_message()`.  \n",
    "\n",
    "Чтобы идентифицировать конкретное сообщение - нам понадобится связка `chat_id` + `message_id`."
   ]
  },
  {
   "cell_type": "code",
   "execution_count": null,
   "metadata": {},
   "outputs": [],
   "source": [
    "# Меняет отправленное сообщение\n",
    "bot.edit_message_text(chat_id=message.chat.id, message_id=message.message_id, text='Новый текст')\n",
    "\n",
    "# Меняет отправленную кнопку к сообщению (или создает ее)\n",
    "markup = types.InlineKeyboardMarkup()  # Если не создавать кнопки в клавиатуру, то она исчезнет, если была\n",
    "bot.edit_message_reply_markup(message.chat.id, message.message_id, reply_markup=markup)\n",
    "\n",
    "# Меняет отправленное медиа\n",
    "# Недостаточно просто написать media=<название файла>. Нужно задать медиа через types.InputMedia()\n",
    "bot.edit_message_media(media=types.InputMedia(type='photo', media=image, caption=text, parse_mode='HTML'),\n",
    "                           chat_id=message.chat.id, message_id=message.message_id, reply_markup=keyboard)\n",
    "\n",
    "# Меняет подпись к медиа (по сути, то же самое, что и предыдущий метод, только оставляет прежний файл)\n",
    "bot.edit_message_caption(caption=\"Подпись к медиа\", chat_id=CHAT_ID, message_id=MESSAGE_ID)\n",
    "\n",
    "# Редактирует сообщение с геопозицией\n",
    "bot.edit_message_live_location(latitude=LATITUDE, longitude=LONGITUDE, chat_id=CHAT_ID, message_id=MESSAGE_ID)\n",
    "\n",
    "# Удаляет сообщение\n",
    "bot.delete_message(message.chat.id, message.message_id)\n"
   ]
  },
  {
   "cell_type": "markdown",
   "metadata": {},
   "source": [
    "Кроме этого, бот может реагировать на то, что пользователь отредактировал свое сообщение. Для этого существует специальный хэндлер `edited_message_handler`. Принцип работы у него точно такой же, как и у обычного `message_handler`.  \n",
    "\n",
    "Этот код отвечает на слово пользователя в формате `Сам <слово пользователя>`. Если пользователь отредактирует свое слово - бот поменяет его в своем ответе."
   ]
  },
  {
   "cell_type": "code",
   "execution_count": null,
   "metadata": {},
   "outputs": [],
   "source": [
    "@bot.message_handler(content_types=['text'])\n",
    "def reply_to_message(message):\n",
    "    bot.reply_to(message, \"Сам {}\".format(message.text))  # Отвечать на сообщения можно и так\n",
    "\n",
    "\n",
    "@bot.edited_message_handler(content_types=['text'])\n",
    "def edit_message(message):\n",
    "    bot.edit_message_text(chat_id=message.chat.id,\n",
    "                          text=\"Сам {}\".format(message.text),\n",
    "                          message_id=message.message_id + 1)  # Тут +1, потому что хотим поменять не сообщение пользователя,\n",
    "                                                              # а следующее за ним, т.е. наше."
   ]
  },
  {
   "cell_type": "markdown",
   "metadata": {},
   "source": [
    "# Кнопки к сообщениям\n",
    "\n",
    "К каждому сообщению бот может прикрепить кнопки, которые будут совершать некое действие."
   ]
  },
  {
   "cell_type": "code",
   "execution_count": null,
   "metadata": {},
   "outputs": [],
   "source": [
    "keyboard = types.InlineKeyboardMarkup()\n",
    "url_button = types.InlineKeyboardButton(text=\"Перейти на Яндекс\", url=\"https://ya.ru\")\n",
    "keyboard.add(url_button)\n",
    "bot.send_message(message.chat.id, \"Привет! Нажми на кнопку и перейди в поисковик.\", reply_markup=keyboard)"
   ]
  },
  {
   "cell_type": "markdown",
   "metadata": {},
   "source": [
    "Кнопки располагаются на инлайн-клавиатуре `InlineKeyboardMarkup`. Сами кнопки имеют тип `InlineKeyboardButton` и могут быть трех типов в зависимости от аргументов при создании.\n",
    "\n",
    "1. **URL-кнопки** - отправляют пользователя по ссылке, которая в них записана. Такая кнопка используется в предыдущем примере.\n",
    "2. **Callback-кнопки** - вызывают функцию в коде.\n",
    "3. **Switch-кнопки** - отправляют сообщение с инлайновым запросом к боту выбранному пользователю. О них - в следующей лекции."
   ]
  },
  {
   "cell_type": "markdown",
   "metadata": {},
   "source": [
    "# Подробнее о типах кнопок"
   ]
  },
  {
   "cell_type": "markdown",
   "metadata": {},
   "source": [
    "## Callback-кнопки\n",
    "\n",
    "Callback-кнопка задается так:  \n",
    "`callback_button = types.InlineKeyboardButton(text=\"Нажми меня\", callback_data='test')`  \n",
    "Здесь `callback_data` - строка с информацией о кнопке.  \n",
    "\n",
    "Нажатие на этот тип кнопки приведет к отправке боту объекта `CallbackQuery` с полями `Message` (сообщение, к которому относилась кнопка) и `data` (строка, которую мы изначально заложили в кнопку).  \n",
    "\n",
    "Отлавливать `CallbackQuery` нужно специальным хэндлером:"
   ]
  },
  {
   "cell_type": "code",
   "execution_count": null,
   "metadata": {},
   "outputs": [],
   "source": [
    "@bot.callback_query_handler(func=lambda call: call.data == 'test')  # Вызовется, если поймали нужную кнопку\n",
    "def callback_processing(call):\n",
    "    # Здесь можно что-то сделать с сообщением. Например, заменить в нем текст.\n",
    "    bot.edit_message_text(chat_id=call.message.chat.id, message_id=call.message.message_id, text=\"Пыщь\")"
   ]
  },
  {
   "cell_type": "markdown",
   "metadata": {},
   "source": [
    "## Всплывающие окна\n",
    "\n",
    "В ответ на действие callback-кнопок Телеграм может показывать либо всплывающее уведомление, либо окно.  \n",
    "\n",
    "Для этого в функции, которая обрабатывает callback, надо написать:"
   ]
  },
  {
   "cell_type": "code",
   "execution_count": null,
   "metadata": {},
   "outputs": [],
   "source": [
    "# Если show_alert == False, то будет показано всплывающее уведомление. Иначе - всплывающее окно.\n",
    "bot.answer_callback_query(callback_query_id=call.id, show_alert=False, text=\"Пыщь!\")"
   ]
  },
  {
   "cell_type": "markdown",
   "metadata": {},
   "source": [
    "# Бот-парсер новостного сайта"
   ]
  },
  {
   "cell_type": "markdown",
   "metadata": {},
   "source": []
  },
  {
   "cell_type": "code",
   "execution_count": null,
   "metadata": {},
   "outputs": [],
   "source": [
    "# Жду код от Артема"
   ]
  }
 ],
 "metadata": {
  "kernelspec": {
   "display_name": "Python 3",
   "language": "python",
   "name": "python3"
  },
  "language_info": {
   "codemirror_mode": {
    "name": "ipython",
    "version": 3
   },
   "file_extension": ".py",
   "mimetype": "text/x-python",
   "name": "python",
   "nbconvert_exporter": "python",
   "pygments_lexer": "ipython3",
   "version": "3.7.4"
  }
 },
 "nbformat": 4,
 "nbformat_minor": 2
}
