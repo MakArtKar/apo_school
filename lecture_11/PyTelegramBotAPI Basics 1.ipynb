{
 "cells": [
  {
   "cell_type": "markdown",
   "metadata": {},
   "source": [
    "# Создание Телеграм-ботов. Основы библиотеки pyTelegramBotAPI\n",
    "\n",
    "На этом занятии мы разберемся, как писать код для телеграм-ботов: узнаем, что такое хэндлеры, разберемся со структурой сообщений в Телеграм и научимся отправлять пользователю различный контент. Помимо этого узнаем, как составлять цепочки сообщений и делать клавиатуры для ответов. В конце лекции мы с вами напишем интерфейс для программы VK Comment Toxic, которую вы писали на предыдущих занятиях.\n",
    "\n",
    "---\n",
    "\n",
    "Ссылки:\n",
    "* Описание всех методов и классов Telegram Bot API: https://core.telegram.org/bots/api\n",
    "* Краткая документация по pyTelegramBotAPI: https://pypi.org/project/pyTelegramBotAPI/\n",
    "* Справочник по Telegram Bot API: https://tlgrm.ru/docs/bots/api\n",
    "* Исходный код библиотеки pyTelegramBotAPI: https://github.com/eternnoir/pyTelegramBotAPI\n",
    "* Гайд по созданию Телеграм-ботов №1: https://m.habr.com/ru/post/350648/\n",
    "* Гайд по созданию Телеграм-ботов №2: https://mastergroosha.github.io/telegram-tutorial/"
   ]
  },
  {
   "cell_type": "markdown",
   "metadata": {},
   "source": [
    "# Хэндлеры\n",
    "\n",
    "В телеграм-ботах все построено вокруг ожидания сообщений от пользователя. Поэтому нет привычной структуры, когда есть какой-то основной код, который выполняется от начала до конца. Ну или на худой конец, когда есть бесконечный цикл, который периодически что-либо проверяет.  \n",
    "\n",
    "Чтобы удобно реализовать ожидание сообщений, взаимодействие с ботом в библиотеке `pyTelegramBotAPI` реализуется через хэндлеры. Хэндлеры - это такие условия, которые библиотека сама постоянно проверяет. Если какое-то из условий выполняется - вызывается функция, которая идет за хэндлером.  \n",
    "\n",
    "Функция может называться как угодно, но она не может возвращать значения. А еще у нее единственный аргумент - сообщение, которое нам отправил пользователь (и которое вызвало хэндлер)"
   ]
  },
  {
   "cell_type": "code",
   "execution_count": null,
   "metadata": {},
   "outputs": [],
   "source": [
    "# Синтаксис использования хэндлеров\n",
    "\n",
    "@bot.message_handler(content_types=['text'])          # хэндлер\n",
    "def echo(message):                                    # функция, которую хэндлер вызывает\n",
    "    bot.send_message(message.chat.id, message.text)"
   ]
  },
  {
   "cell_type": "markdown",
   "metadata": {},
   "source": [
    "## Фильтры в хэндлерах\n",
    "\n",
    "Основной хэндлер - `@bot.message_handler(filters)`. Этот хэндлер реагирует на сообщения пользователей.  \n",
    "\n",
    "Его аргументы - это различные фильтры. По ним библиотека определяет, сработает данный хэндлер, или нет."
   ]
  },
  {
   "cell_type": "code",
   "execution_count": null,
   "metadata": {},
   "outputs": [],
   "source": [
    "# Реагирует на все сообщения с указанными в списке типами контента.\n",
    "@bot.message_handler(content_types=['text', 'photo'])\n",
    "\n",
    "# Типы контента:\n",
    "# text, audio, document, photo, sticker,\n",
    "# video, video_note, voice, location, contact, new_chat_members,\n",
    "# left_chat_member, new_chat_title, new_chat_photo, delete_chat_photo,\n",
    "# group_chat_created, supergroup_chat_created, channel_chat_created, \n",
    "# migrate_to_chat_id, migrate_from_chat_id, pinned_message\n",
    "\n",
    "# Реагирует на все сообщения, подходящие под действие данного регулярного выражения.\n",
    "# О регулярных выражениях - позже.\n",
    "@bot.message_handler(regexp='SOME_REGEXP')\n",
    "\n",
    "# Реагирует на все текстовые сообщения с указанными командами.\n",
    "# Команды в сообщениях задаются так: '/start' или '/help'.\n",
    "@bot.message_handler(commands=['start', 'help'])\n",
    "\n",
    "# Реагирует на все сообщения, для которых функция func возвращает True\n",
    "# У func единственный аргумент - сообщение\n",
    "# func может быть задан как обычной функцией, так и лямбдой\n",
    "@bot.message_handler(func=lambda message: 'проблема' in message.text)\n",
    "\n",
    "\n",
    "# Логическое ИЛИ для хэндлеров\n",
    "@bot.message_handler(commands=['hello'])\n",
    "@bot.message_handler(func=lambda message: 'привет' in message.text)\n",
    "def send_something(message):\n",
    "    pass\n",
    "\n",
    "# Логическое И для хэндлеров\n",
    "@bot.message_handler(content_types=['text'], commands=['start', 'help'])"
   ]
  },
  {
   "cell_type": "markdown",
   "metadata": {},
   "source": [
    "## Middleware хэндлер\n",
    "\n",
    "Может изменить сообщение или какие-то переменные в боте до того, как сообщение перейдет к проверке остальными хэндлерами."
   ]
  },
  {
   "cell_type": "code",
   "execution_count": null,
   "metadata": {},
   "outputs": [],
   "source": [
    "telebot.apihelper.ENABLE_MIDDLEWARE = True  # Не забудьте включить использование middleware хэндлеров\n",
    "\n",
    "@bot.middleware_handler(update_types=['message'])\n",
    "def modify_message(bot_instance, message):\n",
    "    # Модифицирует строку до того, как она попадет к остальным хэндлерам.\n",
    "    message.another_text = message.text + ':changed'\n",
    "    \n",
    "# update_types - то, на что стриггерится хэндлер:\n",
    "# message, edited_message, channel_post, edited_channel_post, inline_query,\n",
    "# chosen_inline_result, callback_query, shipping_query, pre_checkout_query, poll\n",
    "\n",
    "@bot.message_handler(commands=['start'])\n",
    "def start(message):\n",
    "    # Когда сообщение попадет сюда - оно уже изменено.\n",
    "    assert message.another_text == message.text + ':changed'"
   ]
  },
  {
   "cell_type": "markdown",
   "metadata": {},
   "source": [
    "# Структура `telebot.types.Message`"
   ]
  },
  {
   "cell_type": "code",
   "execution_count": null,
   "metadata": {},
   "outputs": [],
   "source": [
    "{\n",
    "    'content_type': 'text',        # Тип содержимого сообщения\n",
    "    'message_id': 5,               # id сообщения\n",
    "    'from_user':\n",
    "    {\n",
    "        'id': 333960329,           # id отправителя\n",
    "        'first_name': 'Mikhail',\n",
    "        'username': 'meshanya',\n",
    "        'last_name': None\n",
    "    },\n",
    "    'date': 1520186598,\n",
    "    'chat':\n",
    "    {\n",
    "        'type': 'private',\n",
    "        'last_name': None,\n",
    "        'first_name': 'Nybkox',\n",
    "        'username': 'nybkox',\n",
    "        'id': 333960329,           # id чата\n",
    "        'title': None,\n",
    "        'all_members_are_administrators': None\n",
    "    },\n",
    "    'forward_from_chat': None,\n",
    "    'forward_from': None,\n",
    "    'forward_date': None,\n",
    "    'reply_to_message': None,\n",
    "    'edit_date': None,\n",
    "    'text': '/start',              # текст сообщения\n",
    "    'entities': None,              # специальное содержимое (ссылки, хэштеги и т.д.)\n",
    "    'audio': None,\n",
    "    'document': None,\n",
    "    'photo': None,\n",
    "    'sticker': None,\n",
    "    'video': None,\n",
    "    'voice': None,\n",
    "    'caption': None,\n",
    "    'contact': None,\n",
    "    'location': None,\n",
    "    'venue': None,\n",
    "    'new_chat_member': None,\n",
    "    'left_chat_member': None,\n",
    "    'new_chat_title': None,\n",
    "    'new_chat_photo': None,\n",
    "    'delete_chat_photo': None,\n",
    "    'group_chat_created': None,\n",
    "    'supergroup_chat_created': None,\n",
    "    'channel_chat_created': None,\n",
    "    'migrate_to_chat_id': None,\n",
    "    'migrate_from_chat_id': None,\n",
    "    'pinned_message': None\n",
    "}"
   ]
  },
  {
   "cell_type": "markdown",
   "metadata": {},
   "source": [
    "# Методы для отправки сообщений\n",
    "\n",
    "Чаще всего нам понадобится использовать метод `bot.send_message()`. Разберемся подробнее с его аргументами.\n",
    "\n",
    "* `chat_id` - id чата\n",
    "* `text` - текст сообщения\n",
    "* `disable_web_page_preview` - если `True`, то предпросмотр веб-страниц будет отключен.\n",
    "* `reply_to_message_id` - id сообщения, на которое нужно ответить\n",
    "* `reply_markup` - клавиатура для ответа (обсудим ниже)\n",
    "* `parse_mode` - режим обработки текста (например, при значении `'HTML'` будет применять HTML-теги из текста)  \n",
    "\n",
    "*`bot.send_message(message.chat.id, '<b>TEST</b>', parse_mode='HTML')`* -> **`TEST`**\n",
    "* `disable_notification` - если `True`, то сообщение придет без звука\n",
    "\n",
    "Все аргументы, кроме `chat_id` и `text` являются опциональными.\n",
    "\n",
    "---\n",
    "\n",
    "Также пробежимся по остальным методам для отправки контента.  \n",
    "\n",
    "**ВАЖНО:** я указываю только аргументы, раскрывающие суть функции. На самом деле, у каждой функции есть еще несколько опциональных аргументов. Что они делают - вы сможете понять по названию. Чтобы узнать, какие аргументы есть у той или иной функции - введите ее название в PyCharm и посмотрите на всплывающую подсказку."
   ]
  },
  {
   "cell_type": "code",
   "execution_count": null,
   "metadata": {},
   "outputs": [],
   "source": [
    "# Пересылает сообщение\n",
    "bot.forward_message(to_chat_id, from_chat_id, message_id)\n",
    "\n",
    "# Все функции, отправляющие контент - могут отправлять его не только как файл, но и по id.\n",
    "# Файл, единожды залитый на сервера Телеграма, получает id. В дальнейшем можно указывать id, а не повторно отправлять файл.\n",
    "# id - это уникальная строка. Подробнее об этом поговорим в следующих лекциях.\n",
    "\n",
    "# Отправляет фотографию\n",
    "photo = open('/tmp/photo.png', 'rb')\n",
    "bot.send_photo(chat_id, photo)\n",
    "bot.send_photo(chat_id, \"FILEID\")\n",
    "bot.send_photo(chat_id, \"PHOTO_URL\")  # Фотографии еще можно отправлять по ссылке\n",
    "\n",
    "# Отправляет аудио\n",
    "audio = open('/tmp/audio.mp3', 'rb')\n",
    "bot.send_audio(chat_id, audio)\n",
    "bot.send_audio(chat_id, \"FILEID\")\n",
    "\n",
    "# Отправляет голосовое сообщение\n",
    "voice = open('/tmp/voice.ogg', 'rb')\n",
    "bot.send_voice(chat_id, voice)\n",
    "bot.send_voice(chat_id, \"FILEID\")\n",
    "\n",
    "# Отправляет документ\n",
    "doc = open('/tmp/file.txt', 'rb')\n",
    "bot.send_document(chat_id, doc)\n",
    "bot.send_document(chat_id, \"FILEID\")\n",
    "\n",
    "# Отправляет стикер\n",
    "sti = open('/tmp/sti.webp', 'rb')\n",
    "bot.send_sticker(chat_id, sti)\n",
    "bot.send_sticker(chat_id, \"FILEID\")\n",
    "\n",
    "# Отправляет видео\n",
    "video = open('/tmp/video.mp4', 'rb')\n",
    "bot.send_video(chat_id, video)\n",
    "bot.send_video(chat_id, \"FILEID\")\n",
    "\n",
    "# Отправляет видеозаметку\n",
    "videonote = open('/tmp/videonote.mp4', 'rb')\n",
    "bot.send_video_note(chat_id, videonote)\n",
    "bot.send_video_note(chat_id, \"FILEID\")\n",
    "\n",
    "# Отправляет местоположение\n",
    "bot.send_location(chat_id=CHAT_ID, latitude=LATITUDE, longitude=LONGITUDE, live_period=LIVE_PERIOD)\n",
    "\n",
    "# Отправляет состояние чата (например, \"бот печатает\").\n",
    "# Можно ввести искуственную задержку, чтобы создать эффект реального набора\n",
    "bot.send_chat_action(message.chat.id, 'typing')\n",
    "time.sleep(3)\n",
    "\n",
    "# Помимо 'typing' также бывают состояния:\n",
    "# 'upload_photo', 'record_video', 'upload_video', 'record_audio',\n",
    "# 'upload_audio', 'upload_document', 'find_location'\n"
   ]
  },
  {
   "cell_type": "markdown",
   "metadata": {},
   "source": [
    "# Построение цепочек сообщений\n",
    "\n",
    "Внутри функции можно указать, какая именно функция будет вызвана в ответ на следующее сообщение пользователя.  \n",
    "\n",
    "Делается это командой `bot.register_next_step_handler(msg, next_func)`. Где `msg` - предыдущее в чате сообщение до ответа пользователя (смотрим и из сообщений бота, и из сообщений юзера), а `next_func` - это функция, которая будет вызвана.\n",
    "\n",
    "---\n",
    "\n",
    "Пример использования:"
   ]
  },
  {
   "cell_type": "code",
   "execution_count": null,
   "metadata": {},
   "outputs": [],
   "source": [
    "@bot.message_handler(commands=['start'])\n",
    "def say_hello(message):\n",
    "    msg = bot.send_message(message.chat.id, 'Здравствуйте!\\nВведите ваше имя')\n",
    "    bot.register_next_step_handler(msg, ask_name)\n",
    "\n",
    "def ask_name(message):\n",
    "    bot.send_message(message.chat.id, 'Теперь я знаю, что вас зовут ' + message.text + '.')"
   ]
  },
  {
   "cell_type": "markdown",
   "metadata": {},
   "source": [
    "# Создание клавиатур"
   ]
  },
  {
   "cell_type": "code",
   "execution_count": null,
   "metadata": {},
   "outputs": [],
   "source": [
    "from telebot import types\n",
    "\n",
    "# Клавиатура заполняется по одному элементу. В ряд помещается не более row_width кнопок.\n",
    "markup = types.ReplyKeyboardMarkup(row_width=2, resize_keyboard=True, one_time_keyboard=True)\n",
    "itembtn1 = types.KeyboardButton('a')\n",
    "itembtn2 = types.KeyboardButton('v')\n",
    "itembtn3 = types.KeyboardButton('d')\n",
    "markup.add(itembtn1, itembtn2, itembtn3)\n",
    "bot.send_message(chat_id, \"Choose one letter:\", reply_markup=markup)\n",
    "\n",
    "# Клавиатура заполняется рядами.\n",
    "markup = types.ReplyKeyboardMarkup(row_width=2, resize_keyboard=True, one_time_keyboard=True)\n",
    "itembtna = types.KeyboardButton('a')\n",
    "itembtnv = types.KeyboardButton('v')\n",
    "itembtnc = types.KeyboardButton('c')\n",
    "itembtnd = types.KeyboardButton('d')\n",
    "itembtne = types.KeyboardButton('e')\n",
    "markup.row(itembtna, itembtnv)\n",
    "markup.row(itembtnc, itembtnd, itembtne)\n",
    "bot.send_message(chat_id, \"Choose one letter:\", reply_markup=markup)\n",
    "\n",
    "# Специальный тип клавиатуры, чтобы ее убрать.\n",
    "markup = types.ReplyKeyboardRemove()\n",
    "bot.send_message(chat_id, message, reply_markup=markup)\n",
    "\n",
    "# Пользователя переводят в режим ответа на отправленное ботом сообщение.\n",
    "markup = types.ForceReply()\n",
    "bot.send_message(chat_id, \"Send me another word:\", reply_markup=markup)"
   ]
  },
  {
   "cell_type": "markdown",
   "metadata": {},
   "source": [
    "# Прописываем стартовые команды `/`\n",
    "\n",
    "Специальные клавиатуры могут появиться только в ответ на какое-то сообщение бота. При первом же запуске бота пользователю доступны только команды (пишутся так: `/start`). Кроме того, команды подразумевают переход бота в какой-то режим, а клавиатуры - дают варианты ответа.  \n",
    "\n",
    "Как задать команды?\n",
    "\n",
    "1. Открываем `@BotFather`.\n",
    "2. Пишем команду `/setcommands`.\n",
    "3. Прописываем команды для бота согласно подсказкам Отца Ботов.\n",
    "\n",
    "---\n",
    "\n",
    "Еще можем добавить описание бота, которое увидят новые пользователи. Для этого:\n",
    "\n",
    "1. Открываем `@BotFather`.\n",
    "2. Пишем команду `/setdescription`.\n",
    "3. Прописываем описание бота согласно подсказкам Отца Ботов."
   ]
  },
  {
   "cell_type": "markdown",
   "metadata": {},
   "source": [
    "# Делаем интерфейс для Comment Toxic"
   ]
  },
  {
   "cell_type": "markdown",
   "metadata": {},
   "source": [
    "Изменения:\n",
    "\n",
    "* import vk\n",
    "* import pyaspeller\n",
    "* Изменил порядок получения логина и пароля\n",
    "* Изменил процесс генерации комментария."
   ]
  },
  {
   "cell_type": "code",
   "execution_count": null,
   "metadata": {},
   "outputs": [],
   "source": [
    "# Жду код Артема."
   ]
  }
 ],
 "metadata": {
  "kernelspec": {
   "display_name": "Python 3",
   "language": "python",
   "name": "python3"
  },
  "language_info": {
   "codemirror_mode": {
    "name": "ipython",
    "version": 3
   },
   "file_extension": ".py",
   "mimetype": "text/x-python",
   "name": "python",
   "nbconvert_exporter": "python",
   "pygments_lexer": "ipython3",
   "version": "3.7.4"
  }
 },
 "nbformat": 4,
 "nbformat_minor": 2
}
