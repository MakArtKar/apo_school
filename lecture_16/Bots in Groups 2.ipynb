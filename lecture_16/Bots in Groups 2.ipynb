{
 "cells": [
  {
   "cell_type": "markdown",
   "metadata": {},
   "source": [
    "# Создание Телеграм-ботов. Боты в группах и каналах 2.\n",
    "\n",
    "Сегодня мы с вами продолжим использовать Телеграм-ботов в группах и каналах. Научимся отслеживать участников в чате, делать языковую локализацию и отправлять эмодзи через бота.\n",
    "\n",
    "---\n",
    "\n",
    "Ссылки:\n",
    "* Описание всех методов и классов Telegram Bot API: https://core.telegram.org/bots/api\n",
    "* Гайд по созданию Телеграм-ботов: https://mastergroosha.github.io/telegram-tutorial/"
   ]
  },
  {
   "cell_type": "markdown",
   "metadata": {},
   "source": [
    "# Как понять, какие пользователи есть в группе. \n",
    "\n",
    "К сожалению, нет методов, которые бы возвращали список участников группы. Доступны методы:  \n",
    "\n",
    "* `bot.get_chat_member(chat_id, user_id)` - если такой пользователь есть в чате - возвращает объект `ChatMember`, в котором содержатся объект `User` и разрешения пользователей.\n",
    "* `bot.get_chat_administrators(chat_id)` - возращает список объектов `ChatMember` с администраторами группы.\n",
    "* `bot.get_chat_members_count(chat_id)` - возвращает количество участников группы.\n",
    "\n",
    "Если нужны все пользователи - можно отслеживать добавление и удаление участников."
   ]
  },
  {
   "cell_type": "code",
   "execution_count": null,
   "metadata": {},
   "outputs": [],
   "source": [
    "# Добавление участников\n",
    "@bot.message_handler(content_types=['new_chat_members'])  \n",
    "def new_member(message):\n",
    "    bot.delete_message(message.chat.id, message.message_id)  # Удаляем системное сообщение о добавлении\n",
    "    \n",
    "    for user in message.new_chat_members: # Список новых участников\n",
    "        bot.send_message(message.chat.id, \"Обнаружен новый участник - {}. Его id - {}\".format(user.username, user.id))\n",
    "        \n",
    "\n",
    "# Удаление участника\n",
    "@bot.message_handler(content_types=['left_chat_member'])\n",
    "def delete_member(message):\n",
    "    bot.delete_message(message.chat.id, message.message_id)  # Удаляем системное сообщение об удалении\n",
    "    \n",
    "    user = message.left_chat_member\n",
    "    bot.send_message(message.chat.id, \"Нас покинул участник - {}\".format(user.username))"
   ]
  },
  {
   "cell_type": "markdown",
   "metadata": {},
   "source": [
    "# Языковая локализация\n",
    "\n",
    "Наш бот мог бы присылать сообщения на разных языках в зависимости от языка пользователя. Как это реализовать?  \n",
    "\n",
    "В объекте `User` (например, в поле `message.from_user`) есть поле `language_code`, содержащее языковую метку пользователя.  \n",
    "\n",
    "Языковые метки могут быть `ru`, `en-GB`, `en-US` и так далее. Иногда `language_code` может быть `None`. Как видите, даже для одного языка могут быть разные метки в зависимости от региона.  \n",
    "Подробнее, здесь: https://en.wikipedia.org/wiki/IETF_language_tag\n",
    "\n",
    "Если нужно разделение на русский и английский - достаточно такого кода:"
   ]
  },
  {
   "cell_type": "code",
   "execution_count": null,
   "metadata": {},
   "outputs": [],
   "source": [
    "def get_language(lang_code):\n",
    "    if not lang_code:\n",
    "        return 'en'\n",
    "    \n",
    "    lang_code = lang_code.split('-')[0]  # Считаем, что везде сначала идет язык, потом дефис, потом регион.\n",
    "    \n",
    "    if lang_code == 'ru':\n",
    "        return 'ru'\n",
    "    else:\n",
    "        return 'en'"
   ]
  },
  {
   "cell_type": "markdown",
   "metadata": {},
   "source": [
    "# Эмодзи\n",
    "\n",
    "Чтобы отправить эмодзи вы на его месте должны указать его код `UTF-8`.  \n",
    "Список кодов, соответствующих разным смайликам - здесь: https://apps.timwhitlock.info/emoji/tables/unicode\n"
   ]
  },
  {
   "cell_type": "code",
   "execution_count": null,
   "metadata": {},
   "outputs": [],
   "source": [
    "# Если вы отправляете только смайлик - можно просто указать параметром его байтовое представление в UTF-8\n",
    "bot.send_message(message.chat.id, b'\\xF0\\x9F\\x98\\x81')\n",
    "\n",
    "\n",
    "# Если смайлик - часть теста - придется к байтовой записи применить команду decode('UTF-8')\n",
    "bot.send_message(message.chat.id, 'Привет' + b'\\xF0\\x9F\\x98\\x81'.decode('UTF-8'))\n",
    "\n",
    "\n",
    "# Если есть набор смайликов - можно задать их в байтовом виде в списке, а потом все раскодировать генератором.\n",
    "smiles = [b'\\xF0\\x9F\\x98\\x81', b'\\xF0\\x9F\\x98\\x82', b'\\xF0\\x9F\\x98\\x85']\n",
    "smiles = [value.decode('UTF-8') for value in smiles]\n",
    "bot.send_message(message.chat.id, 'Привет {}'.format(smiles[2]))\n",
    "\n",
    "\n",
    "# Чтобы узнать UTF-8 код смайлика - можно воспользоваться командой encode('UTF-8').\n",
    "@bot.message_handler(func=lambda message: True)\n",
    "def get_smiley(message):\n",
    "    bot.send_message(message.chat.id, str(message.text.encode('UTF-8')))  # Привели к str, чтобы отобразидся код, а не смайлик"
   ]
  },
  {
   "cell_type": "markdown",
   "metadata": {},
   "source": [
    "# Опросы\n",
    "## Отправка\n",
    "\n",
    "\n",
    "Боты умеют отправлять опросы. Для этого используется метод `bot.send_poll()`. Расскажу про аргументы этого метода:  \n",
    "\n",
    "* `chat_id` - id чата\n",
    "* `question` - вопрос (1-255 символов)\n",
    "* `options` - список из вариантов ответа (2-10 вариантов, до 100 символов)\n",
    "* `is_anonymous` - анонимный ли опрос\n",
    "* `type` - тип (`quiz` - викторина или `regular` - опрос)\n",
    "* `allows_multiple_answers` - доступен ли множественный ответ\n",
    "* `correct_option_id` - номер верной опции, начиная с нуля (только для викторин)\n",
    "* `explanation` - пояснение (появляется, если нажать на неправильный ответ или лампочку в викторине)\n",
    "* `explanation_parse_mode` - как парсить пояснение (например, `'HTML'`)\n",
    "* `open_period` - сколько по времени в секундах доступен опрос (5-600 секунд)\n",
    "* `close_date` - в какое unix-время закрыть опрос (не меньше, чем через 5 секунд, не больше, чем через 600)\n",
    "* `is_closed` - установить в `True`, если нужно закрыть опрос сразу же.\n",
    "* `disable_notification` - отключить уведомления\n",
    "* `reply_to_message_id` - на какое сообщение отвечать\n",
    "* `reply_markup` - клавиатура для ответа\n"
   ]
  },
  {
   "cell_type": "code",
   "execution_count": null,
   "metadata": {},
   "outputs": [],
   "source": [
    "bot.send_poll(message.chat.id, \"Сколько будет два плюс два?\", options=['1', '4', '2', '3'],\n",
    "                  is_anonymous=False, type='quiz', correct_option_id=1, explanation='Учи математику, сынок')"
   ]
  },
  {
   "cell_type": "markdown",
   "metadata": {},
   "source": [
    "## Получение\n",
    "\n",
    "Отловить опрос можно этим хэндлером: `@bot.message_handler(content_types=['poll'])`.  \n",
    "В `message` вместо поля `text` нам придет объект `Poll` - опрос. Разберемся, как у него есть поля:  \n",
    "\n",
    "* `id` - id опроса\n",
    "* `question` - вопрос\n",
    "* `options` - список объектов `PollOption` (есть поля `text` и `voter_count` - количество проголосовавших за этот вариант)\n",
    "* `total_voter_count` - количество проголосовавших в опросе\n",
    "* `is_closed`\n",
    "* `is_anonymous`\n",
    "* `type`\n",
    "* `allows_multiple_answers`\n",
    "* `correct_option_id`\n",
    "* `explanation`\n",
    "* `explanation_entities` - список entities в объяснении\n",
    "* `open_period`\n",
    "* `close_date`\n",
    "\n",
    "Вот так, например, можно отправить пользователю его опрос в ответ:"
   ]
  },
  {
   "cell_type": "code",
   "execution_count": null,
   "metadata": {},
   "outputs": [],
   "source": [
    "@bot.message_handler(content_types=['poll'])\n",
    "def echo(message):\n",
    "    p = message.poll\n",
    "    options = [option.text for option in p.options]  # Сами создаем список с опциями, т.к. нам нужно взять только их текст\n",
    "\n",
    "    bot.send_poll(message.chat.id, p.question, options, is_anonymous=p.is_anonymous,\n",
    "                  type=p.type, allows_multiple_answers=p.allows_multiple_answers,\n",
    "                  correct_option_id=p.correct_option_id, explanation=p.explanation)"
   ]
  },
  {
   "cell_type": "markdown",
   "metadata": {},
   "source": [
    "# Получение результатов опроса\n",
    "\n",
    "Каждый раз, когда пользователь выбирает ответ в неанонимном голосовании - это может отловить `@bot.poll_answer_handler(func=lambda answer: True)`.  \n",
    "\n",
    "В него приходит объект `PollAnswer` с полями:\n",
    "* `poll_id` - id опроса\n",
    "* `user` - объект `User` с информацией о голосовавшем\n",
    "* `options_ids` - список с номерами выбранных опций"
   ]
  },
  {
   "cell_type": "markdown",
   "metadata": {},
   "source": [
    "# Дописываем бота-администратора группы"
   ]
  },
  {
   "cell_type": "code",
   "execution_count": null,
   "metadata": {},
   "outputs": [],
   "source": [
    "# Код в проекте PyCharm из предыдущей лекции."
   ]
  }
 ],
 "metadata": {
  "kernelspec": {
   "display_name": "Python 3",
   "language": "python",
   "name": "python3"
  },
  "language_info": {
   "codemirror_mode": {
    "name": "ipython",
    "version": 3
   },
   "file_extension": ".py",
   "mimetype": "text/x-python",
   "name": "python",
   "nbconvert_exporter": "python",
   "pygments_lexer": "ipython3",
   "version": "3.7.4"
  }
 },
 "nbformat": 4,
 "nbformat_minor": 2
}
