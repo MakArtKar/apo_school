{
 "cells": [
  {
   "cell_type": "markdown",
   "metadata": {},
   "source": [
    "# Работа с файлами\n",
    "\n",
    "Сейчас научимся открывать файлы на чтение и запись, записывать и считывать сложные структуры.\n",
    "\n",
    "## Открываем файл\n",
    "\n",
    "Перед тем как использовать файл, его нужно открыть. Это делается с помощью функции `open`. У нее есть обязательный параметр –– имя файла, который мы открываем. Вторым параметром можно указать, с какой целью мы открываем файл –– `'r'`, если для чтения, и `'w'`, если для записи. Третьим параметром можно указать кодировку файла.\n",
    "\n",
    "После работы с файлом, его нужно закрывать с помощью функции `close`.\n",
    "\n",
    "Разберемся пока с чтением из файла."
   ]
  },
  {
   "cell_type": "code",
   "execution_count": 1,
   "metadata": {},
   "outputs": [],
   "source": [
    "file = open('data.txt', 'r')\n",
    "\n",
    "file.close()"
   ]
  },
  {
   "cell_type": "markdown",
   "metadata": {},
   "source": [
    "## Считываем данные\n",
    "\n",
    "Когда открыли файл, можно считать данные. Это можно сделать с помощью функции `read`. Если вызвать ее без параметров, то файл будет считан до самого конца. Если же указать в аргументах функции число символов, то будет считано именно столько символов."
   ]
  },
  {
   "cell_type": "code",
   "execution_count": 2,
   "metadata": {},
   "outputs": [
    {
     "name": "stdout",
     "output_type": "stream",
     "text": [
      "Hello! I am a file.\n",
      "Here is my second line.\n",
      "\n",
      "The previous line was empty.\n"
     ]
    }
   ],
   "source": [
    "file = open('data.txt', 'r')\n",
    "\n",
    "contents = file.read()\n",
    "\n",
    "print(contents)\n",
    "\n",
    "file.close()"
   ]
  },
  {
   "cell_type": "code",
   "execution_count": 3,
   "metadata": {},
   "outputs": [
    {
     "name": "stdout",
     "output_type": "stream",
     "text": [
      "Hello\n",
      "! I am a f\n",
      "ile.\n",
      "Here is my second line.\n",
      "\n",
      "The previous line was empty.\n"
     ]
    }
   ],
   "source": [
    "file = open('data.txt', 'r')\n",
    "\n",
    "s1 = file.read(5)\n",
    "s2 = file.read(10)\n",
    "s3 = file.read()\n",
    "\n",
    "print(s1, s2, s3, sep='\\n')\n",
    "\n",
    "file.close()"
   ]
  },
  {
   "cell_type": "code",
   "execution_count": 5,
   "metadata": {},
   "outputs": [
    {
     "name": "stdout",
     "output_type": "stream",
     "text": [
      "Hello! I am a file.\n",
      "Here is my second line.\n"
     ]
    }
   ],
   "source": [
    "file = open('data.txt', 'r')\n",
    "\n",
    "s1 = file.readline().strip()\n",
    "s2 = file.readline().strip()\n",
    "\n",
    "print(s1, s2, sep='\\n')\n",
    "\n",
    "file.close()"
   ]
  },
  {
   "cell_type": "markdown",
   "metadata": {},
   "source": [
    "По примеру выше видно, что мы можем комбинировать разные методы считывания. У нас есть указатель на начало данных файла, которые мы еще не считали. Каждый раз, когда мы что-то считываем, он двигается на то, сколько символов мы считали. Если же мы воспользовались `read()` без параметров, указатель передвигается на конец файла.\n",
    "\n",
    "Есть и еще один способ считать данные из файла –– считывать построчно. Этом можно сделать так:"
   ]
  },
  {
   "cell_type": "code",
   "execution_count": 8,
   "metadata": {},
   "outputs": [
    {
     "name": "stdout",
     "output_type": "stream",
     "text": [
      "Hello! I am a file.\n",
      "\n",
      "Here is my second line.\n",
      "\n",
      "\n",
      "\n",
      "The previous line was empty.\n"
     ]
    }
   ],
   "source": [
    "file = open('data.txt', 'r')\n",
    "\n",
    "for s in file:\n",
    "    print(s)\n",
    "\n",
    "file.close()"
   ]
  },
  {
   "cell_type": "markdown",
   "metadata": {},
   "source": [
    "У нас появились переводы строки между строками файла. Это произошло, потому что символы перевода строки и так уже были записаны в файл, а `print` добавил еще один после каждой строки. Чтобы удалить пробелы и переводы строки с обоих концов строки можно использовать функцию `strip`."
   ]
  },
  {
   "cell_type": "code",
   "execution_count": 12,
   "metadata": {},
   "outputs": [
    {
     "name": "stdout",
     "output_type": "stream",
     "text": [
      "asdfasdf\n",
      "adsfasdf\n",
      "\n",
      "\n",
      "asdf\n",
      "\n",
      "asdf\n"
     ]
    }
   ],
   "source": [
    "file = open('data.txt', 'r')\n",
    "\n",
    "for s in file:\n",
    "    print(s.strip())\n",
    "\n",
    "file.close()"
   ]
  },
  {
   "cell_type": "markdown",
   "metadata": {},
   "source": [
    "Этот метод считывания тоже можно комбинировать с предыдущими, он пользуется тем же указателем на еще не считанные данные.\n",
    "\n",
    "## Записываем данные\n",
    "\n",
    "Для записи нам потребуется открыть файл на запись. Если файла с указанным именем не существует, то он создастся."
   ]
  },
  {
   "cell_type": "code",
   "execution_count": 13,
   "metadata": {},
   "outputs": [],
   "source": [
    "file = open('out.txt', 'w')\n",
    "\n",
    "file.close()"
   ]
  },
  {
   "cell_type": "code",
   "execution_count": 15,
   "metadata": {},
   "outputs": [],
   "source": [
    "file = open('out.txt', 'w')\n",
    "\n",
    "file.write(\"asfasfadfs\\n\")\n",
    "file.write(\"1241324\")\n",
    "\n",
    "file.close()"
   ]
  },
  {
   "cell_type": "markdown",
   "metadata": {},
   "source": [
    "С помощью функции `write` можно записать в файл строку. Если нужно записать что-то другое, то необходимо заранее переконвертировать в строку. Переводы строки тоже необходимо добавлять самостоятельно с помощью символа `\\n`.\n",
    "\n",
    "Если запустить код в ячейке выше несколько раз подряд, то можно увидеть, что когда файл открывается на чтение, он стирается, и запись происходит в уже чистый файл. Можно настроить так, чтобы старые данные не стирались, а новые просто добавлялись в конец. Для этого вместо флага `w` нужно написать флаг `a`. Делается это так:"
   ]
  },
  {
   "cell_type": "code",
   "execution_count": 16,
   "metadata": {},
   "outputs": [],
   "source": [
    "file = open('out.txt', 'w')\n",
    "\n",
    "print(['adadsa', 1, 3.14], file=file)\n",
    "\n",
    "file.close()"
   ]
  },
  {
   "cell_type": "code",
   "execution_count": 19,
   "metadata": {},
   "outputs": [],
   "source": [
    "file = open('out2.txt', 'a')\n",
    "\n",
    "file.write(\"asfasfadfs\")\n",
    "file.write(\"1241324\")\n",
    "\n",
    "file.close()"
   ]
  },
  {
   "cell_type": "markdown",
   "metadata": {},
   "source": [
    "Теперь, если запустить код выше несколько раз, то информация будет добавлена в конец файла `out2.txt`.\n",
    "\n",
    "Вообще есть разные флаги, с которыми можно открывать файлы. Вот они:\n",
    "\n",
    "![title](flags.png)\n",
    "\n",
    "Режимы могут быть объединены, то есть, к примеру, 'rb' - чтение в двоичном режиме. По умолчанию режим равен 'rt'.\n",
    "\n",
    "## Сложные объекты\n",
    "\n",
    "Мы можем записывать в файлы и сложные объекты, такие как списки или словари. Для этого можно воспользоваться модулем `json`, а именно функцией `dumps`, которая запишет наш объект в виде строки."
   ]
  },
  {
   "cell_type": "code",
   "execution_count": 22,
   "metadata": {},
   "outputs": [],
   "source": [
    "import json\n",
    "\n",
    "file = open(\"out.txt\", 'w')\n",
    "\n",
    "l = ['foo', {'bar': ['baz', None, 1.0, 2]}]\n",
    "\n",
    "file.write(json.dumps(l))\n",
    "\n",
    "file.close()"
   ]
  },
  {
   "cell_type": "markdown",
   "metadata": {},
   "source": [
    "Потом можно считать и переконвертировать обратно с помощью функции `loads`, которая переконвертирует строку в объект."
   ]
  },
  {
   "cell_type": "code",
   "execution_count": 24,
   "metadata": {},
   "outputs": [
    {
     "name": "stdout",
     "output_type": "stream",
     "text": [
      "['[', '\"', 'f', 'o', 'o', '\"', ',', ' ', '{', '\"', 'b', 'a', 'r', '\"', ':', ' ', '[', '\"', 'b', 'a', 'z', '\"', ',', ' ', 'n', 'u', 'l', 'l', ',', ' ', '1', '.', '0', ',', ' ', '2', ']', '}', ']']\n",
      "<class 'list'>\n",
      "<class 'str'>\n"
     ]
    }
   ],
   "source": [
    "file = open(\"out.txt\", 'r')\n",
    "\n",
    "l = json.loads(file.read())\n",
    "\n",
    "print(l)\n",
    "print(type(l))\n",
    "print(type(l[1]))\n",
    "\n",
    "file.close()"
   ]
  },
  {
   "cell_type": "markdown",
   "metadata": {},
   "source": [
    "Теперь видно, что типы сохранились."
   ]
  }
 ],
 "metadata": {
  "kernelspec": {
   "display_name": "Python 3",
   "language": "python",
   "name": "python3"
  },
  "language_info": {
   "codemirror_mode": {
    "name": "ipython",
    "version": 3
   },
   "file_extension": ".py",
   "mimetype": "text/x-python",
   "name": "python",
   "nbconvert_exporter": "python",
   "pygments_lexer": "ipython3",
   "version": "3.6.4"
  }
 },
 "nbformat": 4,
 "nbformat_minor": 2
}
