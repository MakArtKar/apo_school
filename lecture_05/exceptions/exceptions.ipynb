{
 "cells": [
  {
   "cell_type": "markdown",
   "metadata": {},
   "source": [
    "# Обработка ошибок\n",
    "\n",
    "Как мы уже выяснили, если python не может по каким-то причинам выполнить какое-то действие, возникает ошибка, и программа прекращает свою работу. Сейчас мы научимся обрабатывать ошибки так, чтобы их возникновение не приводило к остановке программы. Это важно, если наша программа должна работать постоянно, например, в фоновом режиме. Также, это очень важно, когда мы работаем с запросами на какие-то удаленные серверы, ведь мы даже не знаем, что там происходит, а значит, и не можем сказать, произойдет ли какая-то ошибка.\n",
    "\n",
    "Ошибки, которые возникают во время работы программы называются исключениями, или, по-английски, exceptions. Для их обработки в python есть конструкция try-except. Разберемся, как она работает.\n",
    "\n",
    "Попробуем сначала вызвать какую-нибудь ошибку. Например, ту, которая возникает, если мы пытаемся привести к числу строку, которая числом не является."
   ]
  },
  {
   "cell_type": "code",
   "execution_count": 3,
   "metadata": {},
   "outputs": [
    {
     "name": "stdout",
     "output_type": "stream",
     "text": [
      "1233.\n"
     ]
    },
    {
     "ename": "ValueError",
     "evalue": "invalid literal for int() with base 10: '1233.'",
     "output_type": "error",
     "traceback": [
      "\u001b[1;31m---------------------------------------------------------------------------\u001b[0m",
      "\u001b[1;31mValueError\u001b[0m                                Traceback (most recent call last)",
      "\u001b[1;32m<ipython-input-3-40fff9a10153>\u001b[0m in \u001b[0;36m<module>\u001b[1;34m\u001b[0m\n\u001b[1;32m----> 1\u001b[1;33m \u001b[0ma\u001b[0m \u001b[1;33m=\u001b[0m \u001b[0mint\u001b[0m\u001b[1;33m(\u001b[0m\u001b[0minput\u001b[0m\u001b[1;33m(\u001b[0m\u001b[1;33m)\u001b[0m\u001b[1;33m)\u001b[0m\u001b[1;33m\u001b[0m\u001b[1;33m\u001b[0m\u001b[0m\n\u001b[0m\u001b[0;32m      2\u001b[0m \u001b[1;33m\u001b[0m\u001b[0m\n\u001b[0;32m      3\u001b[0m \u001b[0mprint\u001b[0m\u001b[1;33m(\u001b[0m\u001b[1;34m\"You entered number\"\u001b[0m\u001b[1;33m,\u001b[0m \u001b[0ma\u001b[0m\u001b[1;33m)\u001b[0m\u001b[1;33m\u001b[0m\u001b[1;33m\u001b[0m\u001b[0m\n",
      "\u001b[1;31mValueError\u001b[0m: invalid literal for int() with base 10: '1233.'"
     ]
    }
   ],
   "source": [
    "a = int(input())\n",
    "\n",
    "print(\"You entered number\", a)"
   ]
  },
  {
   "cell_type": "markdown",
   "metadata": {},
   "source": [
    "Эта программа совершенно не защищена от ошибок. Если пользователь напишет нам что-то не то, то она перестанет работать. А ведь от пользователя можно ожидать чего угодно...\n",
    "\n",
    "## Конструкция try-except\n",
    "\n",
    "Для обработки ошибок у нас есть конструкция try-except. Она говорит: попробуй выполнить блок кода, и предоставляет список возможных ошибок. Для каждой ошибки можно отдельно прописать, что нужно делать, если она возникла."
   ]
  },
  {
   "cell_type": "code",
   "execution_count": 5,
   "metadata": {},
   "outputs": [
    {
     "name": "stdout",
     "output_type": "stream",
     "text": [
      "asdfas\n",
      "This string is not a number!\n"
     ]
    }
   ],
   "source": [
    "try:\n",
    "    a = int(input())\n",
    "    print(\"You entered number\", a)\n",
    "\n",
    "except ValueError:\n",
    "    print(\"This string is not a number!\")"
   ]
  },
  {
   "cell_type": "markdown",
   "metadata": {},
   "source": [
    "Фрагмент кода выше при возниконевении ошибки `ValueError` выдает сообщение, что строка, которую ввели не была числом.\n",
    "\n",
    "Иногда внутри самой ошибки может содержаться полезная информация. Например, в `ValueError` выше нам говорят `invalid literal for int() with base 10: '...'`. Эту информацию тоже можно извлечь, положив ошибку в переменную с помощью `as`. "
   ]
  },
  {
   "cell_type": "code",
   "execution_count": 7,
   "metadata": {},
   "outputs": [
    {
     "name": "stdout",
     "output_type": "stream",
     "text": [
      "sadgsad\n",
      "<class 'ValueError'>\n",
      "invalid literal for int() with base 10: 'sadgsad'\n"
     ]
    }
   ],
   "source": [
    "try:\n",
    "    a = int(input())\n",
    "    print(\"You entered number\", a)\n",
    "\n",
    "except ValueError as e:\n",
    "    print(type(e))\n",
    "    print(str(e))"
   ]
  },
  {
   "cell_type": "markdown",
   "metadata": {},
   "source": [
    "Мы можем ожидать не только ошибку конкретного типа. Если пропустить тип, то будет поймана ошибка любого типа."
   ]
  },
  {
   "cell_type": "code",
   "execution_count": 11,
   "metadata": {},
   "outputs": [
    {
     "name": "stdout",
     "output_type": "stream",
     "text": [
      "0\n",
      "Some error occured\n"
     ]
    }
   ],
   "source": [
    "try:\n",
    "    a = int(input())\n",
    "    b = 5 / a\n",
    "    print(\"You entered number\", a)\n",
    "    print(b)\n",
    "\n",
    "except:\n",
    "    print(\"Some error occured\")"
   ]
  },
  {
   "cell_type": "markdown",
   "metadata": {},
   "source": [
    "В примере выше, если ввести не число, то у нас будет `ValueError`, а если ввести `0`, то будет `ZeroDivisionError`. Это ошибки разных типов, но они обе будут пойманы. "
   ]
  },
  {
   "cell_type": "markdown",
   "metadata": {},
   "source": [
    "Если же мы не знаем, какого типа ошибку ловим, но при этом нам нужна дополнительная информация из нее, то стоит поступить так:"
   ]
  },
  {
   "cell_type": "code",
   "execution_count": 14,
   "metadata": {},
   "outputs": [
    {
     "name": "stdout",
     "output_type": "stream",
     "text": [
      "0\n",
      "<class 'ZeroDivisionError'>\n",
      "division by zero\n"
     ]
    }
   ],
   "source": [
    "try:\n",
    "    a = int(input())\n",
    "    b = 5 / a\n",
    "    print(\"You entered number\", a)\n",
    "\n",
    "except Exception as e:\n",
    "    print(type(e))\n",
    "    print(str(e))"
   ]
  },
  {
   "cell_type": "markdown",
   "metadata": {},
   "source": [
    "В примере выше, Exception может быть любой ошибкой. Какой именно, определится при выполнении. И из объекта `e` мы сможем достать нужную нам информацию."
   ]
  },
  {
   "cell_type": "markdown",
   "metadata": {},
   "source": [
    "К этой всей конструкции можно добавить еще `else`. То, что под `else` будет выполнено, если никакой ошибки не произошло."
   ]
  },
  {
   "cell_type": "code",
   "execution_count": 18,
   "metadata": {},
   "outputs": [
    {
     "name": "stdout",
     "output_type": "stream",
     "text": [
      "0\n",
      "<class 'ZeroDivisionError'>\n",
      "division by zero\n"
     ]
    }
   ],
   "source": [
    "try:\n",
    "    a = int(input())\n",
    "    b = 5 / a\n",
    "except Exception as e:\n",
    "    print(type(e))\n",
    "    print(str(e))\n",
    "else:\n",
    "    print(\"You entered number\", a)\n",
    "    print(\"5 / a =\", b)"
   ]
  },
  {
   "cell_type": "markdown",
   "metadata": {},
   "source": [
    "Еще есть полезная конструкция `finally`. То, что мы пометим этим словом, будет выполнено после всего кода в конструкции try-except, независимо от того, произошло исключение или нет. Это полезно, если мы выделяем какой-то ресурс, например открываем файл, и нам нужно его закрыть в любом случае."
   ]
  },
  {
   "cell_type": "code",
   "execution_count": 20,
   "metadata": {},
   "outputs": [
    {
     "name": "stdout",
     "output_type": "stream",
     "text": [
      "12\n",
      "File is successfully closed!\n"
     ]
    }
   ],
   "source": [
    "file = open('in.txt', 'r')\n",
    "\n",
    "try:\n",
    "    a = int(file.read())\n",
    "    print(a)\n",
    "except ValueError as e:\n",
    "    print(\"Can't read int from file:\", e)\n",
    "finally:\n",
    "    file.close()\n",
    "    print(\"File is successfully closed!\")"
   ]
  },
  {
   "cell_type": "markdown",
   "metadata": {},
   "source": [
    "Однако в этом случае это все стоило бы обернуть в еще один try-except, ведь в процессе открытия файла тоже может возникнуть ошибка. Например, файла с таким именем может не оказаться."
   ]
  },
  {
   "cell_type": "code",
   "execution_count": 23,
   "metadata": {},
   "outputs": [
    {
     "name": "stdout",
     "output_type": "stream",
     "text": [
      "Can't read int from file: invalid literal for int() with base 10: 'asdfasdf'\n",
      "File is successfully closed!\n"
     ]
    }
   ],
   "source": [
    "try: \n",
    "    file = open('in.txt', 'r')\n",
    "\n",
    "    try:\n",
    "        a = int(file.read())\n",
    "        print(a)\n",
    "    except ValueError as e:\n",
    "        print(\"Can't read int from file:\", e)\n",
    "    finally:\n",
    "        file.close()\n",
    "        print(\"File is successfully closed!\")\n",
    "\n",
    "except Exception as e:\n",
    "    print(e)"
   ]
  },
  {
   "cell_type": "markdown",
   "metadata": {},
   "source": [
    "## Создание исключений\n",
    "\n",
    "Что это мы все время чужие исключения обрабатываем? Пора бы научиться создавать свои и гордо их кидать во всех.\n",
    "\n",
    "Допустим, мы хотим написать функцию, которая принимает на вход число, и уж очень хочет, чтобы это число было больше ноля. Разберемся, как кинуть исключение, если переданное число таковым не является."
   ]
  },
  {
   "cell_type": "code",
   "execution_count": 25,
   "metadata": {},
   "outputs": [
    {
     "name": "stdout",
     "output_type": "stream",
     "text": [
      "-1\n",
      "I am function f\n"
     ]
    },
    {
     "ename": "ValueError",
     "evalue": "a should be > 0!",
     "output_type": "error",
     "traceback": [
      "\u001b[1;31m---------------------------------------------------------------------------\u001b[0m",
      "\u001b[1;31mValueError\u001b[0m                                Traceback (most recent call last)",
      "\u001b[1;32m<ipython-input-25-341a4d3bee78>\u001b[0m in \u001b[0;36m<module>\u001b[1;34m\u001b[0m\n\u001b[0;32m      7\u001b[0m \u001b[1;33m\u001b[0m\u001b[0m\n\u001b[0;32m      8\u001b[0m \u001b[1;33m\u001b[0m\u001b[0m\n\u001b[1;32m----> 9\u001b[1;33m \u001b[0mf\u001b[0m\u001b[1;33m(\u001b[0m\u001b[0mint\u001b[0m\u001b[1;33m(\u001b[0m\u001b[0minput\u001b[0m\u001b[1;33m(\u001b[0m\u001b[1;33m)\u001b[0m\u001b[1;33m)\u001b[0m\u001b[1;33m)\u001b[0m\u001b[1;33m\u001b[0m\u001b[1;33m\u001b[0m\u001b[0m\n\u001b[0m",
      "\u001b[1;32m<ipython-input-25-341a4d3bee78>\u001b[0m in \u001b[0;36mf\u001b[1;34m(a)\u001b[0m\n\u001b[0;32m      2\u001b[0m     \u001b[0mprint\u001b[0m\u001b[1;33m(\u001b[0m\u001b[1;34m\"I am function f\"\u001b[0m\u001b[1;33m)\u001b[0m\u001b[1;33m\u001b[0m\u001b[1;33m\u001b[0m\u001b[0m\n\u001b[0;32m      3\u001b[0m     \u001b[1;32mif\u001b[0m \u001b[0ma\u001b[0m \u001b[1;33m<=\u001b[0m \u001b[1;36m0\u001b[0m\u001b[1;33m:\u001b[0m\u001b[1;33m\u001b[0m\u001b[1;33m\u001b[0m\u001b[0m\n\u001b[1;32m----> 4\u001b[1;33m         \u001b[1;32mraise\u001b[0m \u001b[0mValueError\u001b[0m\u001b[1;33m(\u001b[0m\u001b[1;34m\"a should be > 0!\"\u001b[0m\u001b[1;33m)\u001b[0m\u001b[1;33m\u001b[0m\u001b[1;33m\u001b[0m\u001b[0m\n\u001b[0m\u001b[0;32m      5\u001b[0m \u001b[1;33m\u001b[0m\u001b[0m\n\u001b[0;32m      6\u001b[0m     \u001b[0mprint\u001b[0m\u001b[1;33m(\u001b[0m\u001b[1;34m\"a > 0, I am happy!\"\u001b[0m\u001b[1;33m)\u001b[0m\u001b[1;33m\u001b[0m\u001b[1;33m\u001b[0m\u001b[0m\n",
      "\u001b[1;31mValueError\u001b[0m: a should be > 0!"
     ]
    }
   ],
   "source": [
    "def f(a):\n",
    "    print(\"I am function f\")\n",
    "    if a <= 0:\n",
    "        raise ValueError(\"a should be > 0!\")\n",
    "    \n",
    "    print(\"a > 0, I am happy!\")\n",
    "    \n",
    "\n",
    "f(int(input()))"
   ]
  },
  {
   "cell_type": "markdown",
   "metadata": {},
   "source": [
    "В примере выше, если ввести `a <= 0`, то произойдет исключение типа `ValueError`. Мы его кидаем с помощью оператора `raise`. Можем сами его и поймать с помощью try-except."
   ]
  },
  {
   "cell_type": "code",
   "execution_count": 26,
   "metadata": {},
   "outputs": [
    {
     "name": "stdout",
     "output_type": "stream",
     "text": [
      "-1\n",
      "I am function f\n",
      "a should be > 0!\n"
     ]
    }
   ],
   "source": [
    "try:\n",
    "    f(int(input()))\n",
    "except ValueError as e:\n",
    "    print(e)"
   ]
  },
  {
   "cell_type": "markdown",
   "metadata": {},
   "source": [
    "Таким образом, можно вызывать исключение и передавать дополнительную информацию о нем. У почти всех видов исключений можно при создании передать строку с дополнительной информацией о том, что произошло.\n",
    "\n",
    "Допустим, нашу функцию `f` вызывает другая функция `g`, которая очень хочет, чтобы `f` отработала нормально. А если не отработала, то хочет передать исключение от `f` тому, кто ее вызвал. Для этого в конструкции try-except можно добавить слово `raise`, чтобы прокинуть исключение дальше."
   ]
  },
  {
   "cell_type": "code",
   "execution_count": 28,
   "metadata": {},
   "outputs": [
    {
     "name": "stdout",
     "output_type": "stream",
     "text": [
      "-1\n",
      "I am function g. Trying to execute f\n",
      "I am function f\n",
      "Got exception from f, passing it\n",
      "Here is our exception, passed from f:\n",
      "a should be > 0!\n"
     ]
    }
   ],
   "source": [
    "def g(a):\n",
    "    print(\"I am function g. Trying to execute f\")\n",
    "    try:\n",
    "        f(a)\n",
    "    except:\n",
    "        print(\"Got exception from f, passing it\")\n",
    "        raise\n",
    "\n",
    "        \n",
    "try:\n",
    "    g(int(input()))\n",
    "except Exception as e:\n",
    "    print(\"Here is our exception, passed from f:\")\n",
    "    print(e)"
   ]
  },
  {
   "cell_type": "code",
   "execution_count": null,
   "metadata": {},
   "outputs": [],
   "source": []
  }
 ],
 "metadata": {
  "kernelspec": {
   "display_name": "Python 3",
   "language": "python",
   "name": "python3"
  },
  "language_info": {
   "codemirror_mode": {
    "name": "ipython",
    "version": 3
   },
   "file_extension": ".py",
   "mimetype": "text/x-python",
   "name": "python",
   "nbconvert_exporter": "python",
   "pygments_lexer": "ipython3",
   "version": "3.6.4"
  }
 },
 "nbformat": 4,
 "nbformat_minor": 2
}
