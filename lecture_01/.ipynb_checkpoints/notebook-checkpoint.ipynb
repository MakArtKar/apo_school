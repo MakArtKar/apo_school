{
 "cells": [
  {
   "cell_type": "markdown",
   "metadata": {},
   "source": [
    "# Знакомство с Python 1\n",
    "\n",
    "На этом занятии мы познакомимся с типами данных, вводом и выводом информации, научимся подключать модули.\n",
    "\n",
    "Ссылки:<br>\n",
    "Документация по python: https://docs.python.org/3/tutorial/index.html <br>\n",
    "Документация на русском: https://pythoner.name/documentation <br>\n",
    "Тренировка в программировании на python: https://pythontutor.ru <br>"
   ]
  },
  {
   "cell_type": "markdown",
   "metadata": {},
   "source": [
    "# Переменные\n",
    "\n",
    "Основной объект, с которым мы будем работать это переменные. В них мы будем хранить разные данные. Данные бывают разных типов, соответственно хранить их тоже нужно по-разному. Поэтому в Python у каждой переменной есть тип, который определяет, что там может лежать. Пожалуй, самый простой из типов это `int`. `int` происходит от слова integer, что означает \"целое\". Несложно догадаться, что хранит переменная такого типа одно целое число. Попробуем создать переменную типа `int` и напечатать ее значение:"
   ]
  },
  {
   "cell_type": "code",
   "execution_count": 1,
   "metadata": {},
   "outputs": [
    {
     "name": "stdout",
     "output_type": "stream",
     "text": [
      "5\n",
      "<class 'int'>\n"
     ]
    }
   ],
   "source": [
    "a = 5  # теперь в переменной a лежит значение 5, если она не существовала до этого, она просто создастся\n",
    "print(a)  # напечатаем значение переменной a\n",
    "print(type(a))  # и ее тип"
   ]
  },
  {
   "cell_type": "markdown",
   "metadata": {},
   "source": [
    "В ячейке выше мы познакомились с тремя вещами:<br>\n",
    "1. `=`, он же оператор присваивания. Позволяет присвоить тому, что стоит в левой части то, что стоит в правой. Сейчас мы присвоили переменной a значение 5.\n",
    "2. `print()` –– это функция. Вызов функции означает какое-то действие. У каждой функции есть аргументы, которые указываются в круглых скобках. Функция `print()` отвечает за то, чтобы вывести объект на экран.\n",
    "3. `type()`. Как мы уже знаем, это функция. Она по переданному значению возвращает его тип. Мог возникнуть вопрос: а какого типа значение возвращается функцией `type()`? Проверим!"
   ]
  },
  {
   "cell_type": "code",
   "execution_count": 2,
   "metadata": {},
   "outputs": [
    {
     "name": "stdout",
     "output_type": "stream",
     "text": [
      "<class 'type'>\n"
     ]
    }
   ],
   "source": [
    "print(type(type(a)))"
   ]
  },
  {
   "cell_type": "markdown",
   "metadata": {},
   "source": [
    "Теперь видно, что в Python есть специальный тип переменной, который хранит тип переменной.<br><br>\n",
    "Окей, а какие еще есть типы переменных?"
   ]
  },
  {
   "cell_type": "code",
   "execution_count": 4,
   "metadata": {},
   "outputs": [
    {
     "name": "stdout",
     "output_type": "stream",
     "text": [
      "3.1415926 <class 'float'>\n",
      "abacaba <class 'str'>\n"
     ]
    }
   ],
   "source": [
    "b = 3.1415926  # создаем дробное число\n",
    "print(b, type(b))\n",
    "\n",
    "s = \"abacaba\"  # создаем строку\n",
    "print(s, type(s))"
   ]
  },
  {
   "cell_type": "markdown",
   "metadata": {},
   "source": [
    "Как видно, у нас еще есть дробные числа –– `float` и строки –– `str`. Дальше мы будем встречаться и с другими типами переменных."
   ]
  },
  {
   "cell_type": "markdown",
   "metadata": {},
   "source": [
    "# Операции над переменными\n",
    "\n",
    "Зачем нам данные, если мы с ними ничего не можем делать? Это неправда, делать мы можем много что. Например, для чисел определены обычные математические операции: +, -, *, /."
   ]
  },
  {
   "cell_type": "code",
   "execution_count": 5,
   "metadata": {},
   "outputs": [
    {
     "name": "stdout",
     "output_type": "stream",
     "text": [
      "8\n",
      "1.1428571428571428\n",
      "12\n",
      "-2\n",
      "35\n",
      "0.7142857142857143\n",
      "8\n"
     ]
    }
   ],
   "source": [
    "a = 5\n",
    "b = 7\n",
    "\n",
    "print(a + 3)\n",
    "print(8 / 7)\n",
    "\n",
    "print(a + b)\n",
    "print(a - b)\n",
    "print(a * b)\n",
    "print(a / b)  # кстати, а какого типа будут результаты вычислений?\n",
    "\n",
    "a = 2\n",
    "b = 3\n",
    "print(2 ** 3)"
   ]
  },
  {
   "cell_type": "code",
   "execution_count": 6,
   "metadata": {},
   "outputs": [
    {
     "ename": "ZeroDivisionError",
     "evalue": "division by zero",
     "output_type": "error",
     "traceback": [
      "\u001b[0;31m---------------------------------------------------------------------------\u001b[0m",
      "\u001b[0;31mZeroDivisionError\u001b[0m                         Traceback (most recent call last)",
      "\u001b[0;32m<ipython-input-6-34630cd80504>\u001b[0m in \u001b[0;36m<module>\u001b[0;34m\u001b[0m\n\u001b[0;32m----> 1\u001b[0;31m \u001b[0mprint\u001b[0m\u001b[0;34m(\u001b[0m\u001b[0;36m5\u001b[0m \u001b[0;34m/\u001b[0m \u001b[0;36m0\u001b[0m\u001b[0;34m)\u001b[0m\u001b[0;34m\u001b[0m\u001b[0;34m\u001b[0m\u001b[0m\n\u001b[0m",
      "\u001b[0;31mZeroDivisionError\u001b[0m: division by zero"
     ]
    }
   ],
   "source": [
    "print(5 / 0)"
   ]
  },
  {
   "cell_type": "markdown",
   "metadata": {},
   "source": [
    "Порядок операций такой же, как в математике. Но я рекомендую ставить скобки везде, где не очевидно какой порядок выполнения операций."
   ]
  },
  {
   "cell_type": "code",
   "execution_count": 7,
   "metadata": {},
   "outputs": [
    {
     "name": "stdout",
     "output_type": "stream",
     "text": [
      "6\n",
      "8\n"
     ]
    }
   ],
   "source": [
    "print(2 + 2 * 2)\n",
    "print((2 + 2) * 2)"
   ]
  },
  {
   "cell_type": "markdown",
   "metadata": {},
   "source": [
    "Для целых чисел у нас еще есть операции `//`  и `%` –– целочисленное деление и взятие остатка от деления."
   ]
  },
  {
   "cell_type": "code",
   "execution_count": 10,
   "metadata": {},
   "outputs": [
    {
     "name": "stdout",
     "output_type": "stream",
     "text": [
      "4\n",
      "3\n"
     ]
    }
   ],
   "source": [
    "a = 23\n",
    "b = 5\n",
    "\n",
    "print(a // b)\n",
    "print(a % b)"
   ]
  },
  {
   "cell_type": "markdown",
   "metadata": {},
   "source": [
    "У нас также есть операции над строками. Мы можем прибавить одну строку к другой, а также умножить строку на число."
   ]
  },
  {
   "cell_type": "code",
   "execution_count": 12,
   "metadata": {},
   "outputs": [
    {
     "name": "stdout",
     "output_type": "stream",
     "text": [
      "abacabadaba\n",
      "dabaabacaba\n",
      "abacabaabacabaabacaba\n",
      "abacabaabacabaabacaba\n",
      "dabadabadabadabadaba\n"
     ]
    }
   ],
   "source": [
    "a = 'abacaba'  # здесь я присвоил переменной a значение другого типа. Да, так можно\n",
    "b = 'daba'\n",
    "\n",
    "print(a + b)\n",
    "print(b + a)\n",
    "print(3 * a)\n",
    "print(a * 3)\n",
    "print(b * 5)"
   ]
  },
  {
   "cell_type": "markdown",
   "metadata": {},
   "source": [
    "Операция `+` для строк просто склеивает строки, а операция `*` возвращает строку, повторенную несколько раз.<br><br>\n",
    "Для строк есть функция `len()`. Она вернет длину строки –– целое число."
   ]
  },
  {
   "cell_type": "code",
   "execution_count": 9,
   "metadata": {},
   "outputs": [
    {
     "name": "stdout",
     "output_type": "stream",
     "text": [
      "7\n",
      "4\n",
      "11\n"
     ]
    }
   ],
   "source": [
    "print(len(a))\n",
    "print(len(b))\n",
    "print(len(a + b))"
   ]
  },
  {
   "cell_type": "markdown",
   "metadata": {},
   "source": [
    "Еще для строк у нас есть специальный оператор –– `[]`. Он позволяет взять из строки один символ. <br>\n",
    "**Символы всегда нумеруются с нуля**, то есть 0, 1, 2, ...<br>\n",
    "Позиция символа в строке называется индексом."
   ]
  },
  {
   "cell_type": "code",
   "execution_count": 13,
   "metadata": {},
   "outputs": [
    {
     "name": "stdout",
     "output_type": "stream",
     "text": [
      "b d\n",
      "c\n"
     ]
    }
   ],
   "source": [
    "print(a[1], b[0])\n",
    "\n",
    "x = 3\n",
    "print(a[x])"
   ]
  },
  {
   "cell_type": "markdown",
   "metadata": {},
   "source": [
    "Что будет, если индекс выходит за пределы строки?"
   ]
  },
  {
   "cell_type": "code",
   "execution_count": 14,
   "metadata": {},
   "outputs": [
    {
     "ename": "IndexError",
     "evalue": "string index out of range",
     "output_type": "error",
     "traceback": [
      "\u001b[0;31m---------------------------------------------------------------------------\u001b[0m",
      "\u001b[0;31mIndexError\u001b[0m                                Traceback (most recent call last)",
      "\u001b[0;32m<ipython-input-14-837d7eb31868>\u001b[0m in \u001b[0;36m<module>\u001b[0;34m\u001b[0m\n\u001b[1;32m      1\u001b[0m \u001b[0ma\u001b[0m \u001b[0;34m=\u001b[0m \u001b[0;34m'abacaba'\u001b[0m\u001b[0;34m\u001b[0m\u001b[0;34m\u001b[0m\u001b[0m\n\u001b[0;32m----> 2\u001b[0;31m \u001b[0mprint\u001b[0m\u001b[0;34m(\u001b[0m\u001b[0ma\u001b[0m\u001b[0;34m[\u001b[0m\u001b[0;36m10\u001b[0m\u001b[0;34m]\u001b[0m\u001b[0;34m)\u001b[0m\u001b[0;34m\u001b[0m\u001b[0;34m\u001b[0m\u001b[0m\n\u001b[0m",
      "\u001b[0;31mIndexError\u001b[0m: string index out of range"
     ]
    }
   ],
   "source": [
    "a = 'abacaba'\n",
    "print(a[10])"
   ]
  },
  {
   "cell_type": "markdown",
   "metadata": {},
   "source": [
    "А что, если индекс сделать отрицательным? Что получается?"
   ]
  },
  {
   "cell_type": "code",
   "execution_count": 15,
   "metadata": {},
   "outputs": [
    {
     "name": "stdout",
     "output_type": "stream",
     "text": [
      "a\n",
      "b\n"
     ]
    }
   ],
   "source": [
    "a = \"abacaba\"\n",
    "\n",
    "print(a[-1])\n",
    "print(a[-2])"
   ]
  },
  {
   "cell_type": "markdown",
   "metadata": {},
   "source": [
    "А вот поменять элемент строки по индексу не получится –– Python выдаст ошибку."
   ]
  },
  {
   "cell_type": "code",
   "execution_count": 16,
   "metadata": {},
   "outputs": [
    {
     "ename": "TypeError",
     "evalue": "'str' object does not support item assignment",
     "output_type": "error",
     "traceback": [
      "\u001b[0;31m---------------------------------------------------------------------------\u001b[0m",
      "\u001b[0;31mTypeError\u001b[0m                                 Traceback (most recent call last)",
      "\u001b[0;32m<ipython-input-16-c31edb067936>\u001b[0m in \u001b[0;36m<module>\u001b[0;34m\u001b[0m\n\u001b[0;32m----> 1\u001b[0;31m \u001b[0ma\u001b[0m\u001b[0;34m[\u001b[0m\u001b[0;36m2\u001b[0m\u001b[0;34m]\u001b[0m \u001b[0;34m=\u001b[0m \u001b[0;34m'b'\u001b[0m\u001b[0;34m\u001b[0m\u001b[0;34m\u001b[0m\u001b[0m\n\u001b[0m",
      "\u001b[0;31mTypeError\u001b[0m: 'str' object does not support item assignment"
     ]
    }
   ],
   "source": [
    "a[2] = 'b'"
   ]
  },
  {
   "cell_type": "markdown",
   "metadata": {},
   "source": [
    "# Ввод и вывод данных\n",
    "\n",
    "До этого все наши данные были вписаны в код программы, а это как-то не очень интересно. Научимся считывать данные в переменные.<br>\n",
    "Для этого нам нужна функция `input()`. Она считает одну строку входных данных и вернет нам ее в виде строки."
   ]
  },
  {
   "cell_type": "code",
   "execution_count": 19,
   "metadata": {},
   "outputs": [
    {
     "name": "stdout",
     "output_type": "stream",
     "text": [
      "asdfgs\n",
      "asdfgs\n",
      "<class 'str'>\n"
     ]
    }
   ],
   "source": [
    "a = input()\n",
    "print(a)\n",
    "print(type(a))"
   ]
  },
  {
   "cell_type": "markdown",
   "metadata": {},
   "source": [
    "Проблема в том, что даже если мы вводим число, оно все равно считывается как строка. Что делать?<br>\n",
    "На помощь нам придут функции преобразования типов. Функция `int()` попробует преобразовать переданное значение в целое число. Функция `float()` -– в вещественное число, а функция `str()` –– в строку.<br><br>\n",
    "Тогда мы можем сделать так:"
   ]
  },
  {
   "cell_type": "code",
   "execution_count": 22,
   "metadata": {},
   "outputs": [
    {
     "name": "stdout",
     "output_type": "stream",
     "text": [
      "3214\n",
      "3214\n",
      "<class 'int'>\n"
     ]
    }
   ],
   "source": [
    "a = int(input())\n",
    "print(a)\n",
    "print(type(a))"
   ]
  },
  {
   "cell_type": "markdown",
   "metadata": {},
   "source": [
    "Теперь поближе познакомимся с функцией `print`. Как мы уже выяснили, она позволяет вывести какой-то объект на экран. В нее можно передавать несколько параметров, которые по умолчанию будут распечатаны через пробел, а в конце будет напечатан перевод строки."
   ]
  },
  {
   "cell_type": "code",
   "execution_count": 25,
   "metadata": {},
   "outputs": [
    {
     "name": "stdout",
     "output_type": "stream",
     "text": [
      "abaasdf 100\n"
     ]
    }
   ],
   "source": [
    "s = \"abaasdf\"\n",
    "x = 100\n",
    "\n",
    "print(s, x)"
   ]
  },
  {
   "cell_type": "markdown",
   "metadata": {},
   "source": [
    "Мы можем изменить символы, которые вставляются между объектами, которые мы хотим распечатать, а также символ, который будет добавлен в конце. Для этого нам нужно будет воспользоваться параметрами `sep` и `end`. Это именованные параметры, у них довольно необычный способ передачи в функцию."
   ]
  },
  {
   "cell_type": "code",
   "execution_count": 28,
   "metadata": {},
   "outputs": [
    {
     "name": "stdout",
     "output_type": "stream",
     "text": [
      "abaasdf, 100, 3.1415926!\n",
      "dasfasdf\n"
     ]
    }
   ],
   "source": [
    "s = \"abaasdf\"\n",
    "x = 100\n",
    "pi = 3.1415926\n",
    "\n",
    "print(s, x, pi, sep=\", \", end=\"!\\n\")\n",
    "print('dasfasdf')"
   ]
  },
  {
   "cell_type": "markdown",
   "metadata": {},
   "source": [
    "В ячейке выше я вставил между объектами запятую и пробел, а в конце –– восклицательный знак и перевод строки. Символ `\\n` соответствует переводу строки. Он интерпретируется как один символ, несмотря на то, что мы видим два. Это сделано для удобства прочтения человеком."
   ]
  },
  {
   "cell_type": "markdown",
   "metadata": {},
   "source": [
    "# Логические конструкции"
   ]
  },
  {
   "cell_type": "markdown",
   "metadata": {},
   "source": [
    "Нам потребуется еще один важный тип данных –– `bool`. Переменные этого типа могут принимать два возможных значения –– `True` или `False`. Зачем он нам нужен?<br>\n",
    "Как ты знаешь, числа можно не только складывать, умножать, вычитать и делить. Их еще можно сравнивать между собой. Например, если у нас есть две переменные `a` и `b`, то нам может быть интересен результат сравнения `a > b`. У такого сравнения только два возможных исхода –– либо `a` больше `b`, либо нет. Тогда результат такого выражения удобно хранить в виде `bool`."
   ]
  },
  {
   "cell_type": "code",
   "execution_count": 32,
   "metadata": {},
   "outputs": [
    {
     "name": "stdout",
     "output_type": "stream",
     "text": [
      "10\n",
      "10\n",
      "False\n",
      "True\n",
      "False\n",
      "True\n",
      "True\n",
      "False\n",
      "True\n"
     ]
    }
   ],
   "source": [
    "a = int(input())\n",
    "b = int(input())\n",
    "\n",
    "print(a > b)  # больше\n",
    "print(a >= b)  # больше либо равно\n",
    "print(a < b)  # меньше\n",
    "print(a <= b)  # меньше либо равно\n",
    "print(a == b)  # равно\n",
    "print(a != b)  # не равно\n",
    "print(a % b == 0)  "
   ]
  },
  {
   "cell_type": "code",
   "execution_count": 36,
   "metadata": {},
   "outputs": [
    {
     "name": "stdout",
     "output_type": "stream",
     "text": [
      "dsafdsf\n",
      "dsafdsf\n",
      "True\n",
      "False\n",
      "False\n"
     ]
    }
   ],
   "source": [
    "a = input()\n",
    "b = input()\n",
    "\n",
    "print(a == b)\n",
    "print(a < b)\n",
    "print(a > b)"
   ]
  },
  {
   "cell_type": "markdown",
   "metadata": {},
   "source": [
    "Важно, что оператор сравнения записывается `==`, а не `=`. Это нужно, чтобы он отличался от оператора присваивания.<br><br>\n",
    "\n",
    "Для переменных типа `bool` тоже определены некоторые операции:\n",
    "1. `a and b` –– логическое \"и\". Возвращает `True` только если и `a` и `b` равны `True`\n",
    "2. `a or b` –– логическое \"или\". Возвращает `True` если хотя бы кто-то из `a` и `b` равен `True`\n",
    "3. `not a` –– логическое \"не\". Принимает один аргумент. Меняет значение `a` на противоположное."
   ]
  },
  {
   "cell_type": "code",
   "execution_count": 37,
   "metadata": {},
   "outputs": [
    {
     "name": "stdout",
     "output_type": "stream",
     "text": [
      "3\n",
      "15\n",
      "True\n",
      "False\n",
      "True\n"
     ]
    }
   ],
   "source": [
    "a = int(input())\n",
    "b = int(input())\n",
    "\n",
    "print((a < 5) and (b > 10))\n",
    "print((a == 6) or (b == 8))\n",
    "print(not (a == 5) or (b > 7))"
   ]
  },
  {
   "cell_type": "markdown",
   "metadata": {},
   "source": [
    "# Подключение модулей\n",
    "\n",
    "За свою жизнь мы можем написать много кода, но явно не больше, чем все люди вместе уже написали. Да и зачем писать его заново, если можно просто использовать уже готовый?<br>\n",
    "Модуль в Python –– это уже написанный набор функций, которые мы можем использовать. Разберемся, как подключить модуль, функция из которого понадобится в домашнем задании.<br><br>\n",
    "Для подключения модулей есть конструкция `import`.<br>\n",
    "Перед тем, как использовать модуль, нужно просто написать `import название модуля`.<br>\n",
    "После этого нам будет доступны функции этого модуля. Разберемся на примере:"
   ]
  },
  {
   "cell_type": "code",
   "execution_count": 42,
   "metadata": {},
   "outputs": [
    {
     "name": "stdout",
     "output_type": "stream",
     "text": [
      "980\n"
     ]
    }
   ],
   "source": [
    "import random  # подключаем модуль random\n",
    "\n",
    "a = random.randint(0, 1000)  # вызываем функцию randint\n",
    "print(a)"
   ]
  },
  {
   "cell_type": "markdown",
   "metadata": {},
   "source": [
    "Когда мы подключили модуль, можно вызвать функцию из него, написав `module.function()`, где `module` –– название модуля, а `function` –– название функции.<br>\n",
    "Именно таким образом я вызвал функцию `randint()` выше. Эта функция принимает два целых числа и выдает случайное число между ними. Можно убедиться, что если несколько раз запустить ячейку выше, будут сгенерированы разные числа. <br><br>\n",
    "Мы также можем импортировать не сам модуль, а только конкретные функции из него, чтобы не обращаться к ним каждый раз через `module.function`, а просто писать `function`."
   ]
  },
  {
   "cell_type": "code",
   "execution_count": 49,
   "metadata": {},
   "outputs": [
    {
     "name": "stdout",
     "output_type": "stream",
     "text": [
      "512\n"
     ]
    }
   ],
   "source": [
    "from random import *  # импортируем функцию randint из модуля random\n",
    "\n",
    "a = randint(0, 1000)\n",
    "print(a)"
   ]
  },
  {
   "cell_type": "markdown",
   "metadata": {},
   "source": [
    "Можно указать несколько функций через запятую, а можно написать `from module import *`, чтобы импортировать сразу все."
   ]
  },
  {
   "cell_type": "markdown",
   "metadata": {},
   "source": [
    "# Списки\n",
    "\n",
    "Нам потребуется сохранять несколько объектов в одном месте. Для этого у нас есть списки, aka массивы. Мы можем задать список так:"
   ]
  },
  {
   "cell_type": "code",
   "execution_count": 50,
   "metadata": {},
   "outputs": [
    {
     "name": "stdout",
     "output_type": "stream",
     "text": [
      "[1, 2, 3, 5]\n",
      "<class 'list'>\n"
     ]
    }
   ],
   "source": [
    "l = [1, 2, 3, 5]  # создаем список из чисел\n",
    "\n",
    "print(l)\n",
    "print(type(l))"
   ]
  },
  {
   "cell_type": "markdown",
   "metadata": {},
   "source": [
    "В списке могут лежать объекты разного типа:"
   ]
  },
  {
   "cell_type": "code",
   "execution_count": 51,
   "metadata": {},
   "outputs": [
    {
     "name": "stdout",
     "output_type": "stream",
     "text": [
      "[1, 'sdgdsg', 3.1415]\n"
     ]
    }
   ],
   "source": [
    "l = [1, \"sdgdsg\", 3.1415]\n",
    "print(l)"
   ]
  },
  {
   "cell_type": "markdown",
   "metadata": {},
   "source": [
    "В ячейке выше у нас есть список, в котором лежат целое число, строка и дробное число. <br><br>\n",
    "\n",
    "Во многом список похож на строку. К нему тоже можно обращаться по индексу, и узнавать его длину с помощью `len`. Также список разрешает модификацию одного элемента, а строка –– нет."
   ]
  },
  {
   "cell_type": "code",
   "execution_count": 52,
   "metadata": {},
   "outputs": [
    {
     "name": "stdout",
     "output_type": "stream",
     "text": [
      "5\n",
      "1\n",
      "100500\n",
      "10\n",
      "[1, 2, 100, 7, 100500]\n"
     ]
    }
   ],
   "source": [
    "l = [1, 2, 10, 7, 100500]\n",
    "\n",
    "print(len(l))\n",
    "print(l[0])\n",
    "print(l[-1])\n",
    "print(l[2])\n",
    "\n",
    "l[2] = 100\n",
    "\n",
    "print(l)"
   ]
  },
  {
   "cell_type": "markdown",
   "metadata": {},
   "source": [
    "К списку можно добавить элемент с помощью функции `append`."
   ]
  },
  {
   "cell_type": "code",
   "execution_count": 53,
   "metadata": {},
   "outputs": [
    {
     "name": "stdout",
     "output_type": "stream",
     "text": [
      "[1, 5, 3, 0]\n",
      "[1, 5, 3, 0, 100500]\n"
     ]
    }
   ],
   "source": [
    "l = [1, 5, 3, 0]\n",
    "\n",
    "print(l)\n",
    "\n",
    "l.append(100500)\n",
    "\n",
    "print(l)"
   ]
  },
  {
   "cell_type": "markdown",
   "metadata": {},
   "source": [
    "Разберемся, как правильно копировать списки."
   ]
  },
  {
   "cell_type": "code",
   "execution_count": 54,
   "metadata": {},
   "outputs": [
    {
     "name": "stdout",
     "output_type": "stream",
     "text": [
      "[1, 2, 3, 4, 5]\n",
      "[10, 2, 3, 4, 5]\n",
      "[10, 2, 3, 4, 5]\n"
     ]
    }
   ],
   "source": [
    "l1 = [1, 2, 3, 4, 5]\n",
    "\n",
    "l2 = l1\n",
    "\n",
    "print(l2)\n",
    "\n",
    "l2[0] = 10\n",
    "\n",
    "print(l2)\n",
    "print(l1)"
   ]
  },
  {
   "cell_type": "markdown",
   "metadata": {},
   "source": [
    "Как видно, если просто присовить список с помощью `=`, то когда мы будем модифицировать второй список, первый тоже пудет получать эти изменения. Чтобы этого избежать, нужно копировать списки с помощью `copy`."
   ]
  },
  {
   "cell_type": "code",
   "execution_count": 55,
   "metadata": {},
   "outputs": [
    {
     "name": "stdout",
     "output_type": "stream",
     "text": [
      "[100, 2, 3, 4, 5]\n",
      "[1, 2, 3, 4, 5]\n"
     ]
    }
   ],
   "source": [
    "l1 = [1, 2, 3, 4, 5]\n",
    "\n",
    "l2 = l1.copy()\n",
    "\n",
    "l2[0] = 100\n",
    "\n",
    "print(l2)\n",
    "print(l1)"
   ]
  },
  {
   "cell_type": "markdown",
   "metadata": {},
   "source": [
    "Теперь все правильно!\n",
    "\n",
    "### Срезы\n",
    "\n",
    "Из списка мы можем получать подсписки с помощью срезов. Срез в общем виде выглядит так: `l[START:STOP:STEP]`. Этот срез берет в ответ все элементы списка `l` от `START` включительно до `STOP` не включительно с шагом `STEP`. Какие-то из этих элементов могут быть опущены. По умолчанию `START = 0`, `STOP = len(l)`, `STEP = 1`."
   ]
  },
  {
   "cell_type": "code",
   "execution_count": 59,
   "metadata": {},
   "outputs": [
    {
     "name": "stdout",
     "output_type": "stream",
     "text": [
      "[1, 2]\n",
      "[3, 2, 1]\n",
      "[0, 2, 4]\n",
      "[2, 3, 4, 5]\n",
      "[0, 1, 2]\n"
     ]
    }
   ],
   "source": [
    "l = [0, 1, 2, 3, 4, 5]\n",
    "\n",
    "print(l[1:3:1])\n",
    "print(l[3:0:-1])\n",
    "print(l[::2])\n",
    "print(l[2:])\n",
    "print(l[:3])"
   ]
  },
  {
   "cell_type": "markdown",
   "metadata": {},
   "source": [
    "## Множества\n",
    "\n",
    "В python можно задать множество. Это то же самое, что и множество в математике. В нем содержатся только уникальные элементы, можно проверить, лежит ли элемент во множестве, добавить элемент в множество, удалить элемент. Также нам доступны стандартные математические операции над множествами: объединение, пересечение и так далее.\n",
    "\n",
    "В множестве элементы хранятся в произвольном порядке.\n",
    "\n",
    "Задаются множества в фигурных скобках. Однако, пустое множество нельзя задать пусттыми фигурными скобками. Для этого стоит использовать функцию `set()`."
   ]
  },
  {
   "cell_type": "code",
   "execution_count": 60,
   "metadata": {},
   "outputs": [
    {
     "name": "stdout",
     "output_type": "stream",
     "text": [
      "{1, 2, 3, 100}\n",
      "<class 'set'>\n",
      "set()\n"
     ]
    }
   ],
   "source": [
    "s = {1, 2, 3, 100}\n",
    "\n",
    "print(s)\n",
    "print(type(s))\n",
    "\n",
    "t = set()  # пустое множество\n",
    "\n",
    "print(t)"
   ]
  },
  {
   "cell_type": "code",
   "execution_count": 61,
   "metadata": {},
   "outputs": [
    {
     "name": "stdout",
     "output_type": "stream",
     "text": [
      "{1, 2, 3, 100, 200}\n",
      "{1, 2, 3, 100, 200}\n"
     ]
    }
   ],
   "source": [
    "s.add(200)\n",
    "\n",
    "print(s)\n",
    "\n",
    "s.add(1)\n",
    "\n",
    "print(s)"
   ]
  },
  {
   "cell_type": "markdown",
   "metadata": {},
   "source": [
    "Удалить элемент `x` из множества можно с помощью функций `remove(x)` и `discard(x)`. Они отличаются тем, что если элемента `x` нет в множестве, то первая выдаст ошибку, а вторая –– нет."
   ]
  },
  {
   "cell_type": "code",
   "execution_count": 62,
   "metadata": {},
   "outputs": [
    {
     "name": "stdout",
     "output_type": "stream",
     "text": [
      "{1, 2, 3}\n",
      "{2, 3}\n",
      "{3}\n"
     ]
    }
   ],
   "source": [
    "s = {1, 2, 3}\n",
    "\n",
    "print(s)\n",
    "\n",
    "s.remove(1)\n",
    "print(s)\n",
    "\n",
    "s.discard(2)\n",
    "print(s)"
   ]
  },
  {
   "cell_type": "code",
   "execution_count": 63,
   "metadata": {},
   "outputs": [
    {
     "ename": "KeyError",
     "evalue": "4",
     "output_type": "error",
     "traceback": [
      "\u001b[0;31m---------------------------------------------------------------------------\u001b[0m",
      "\u001b[0;31mKeyError\u001b[0m                                  Traceback (most recent call last)",
      "\u001b[0;32m<ipython-input-63-726b32614c4e>\u001b[0m in \u001b[0;36m<module>\u001b[0;34m\u001b[0m\n\u001b[1;32m      1\u001b[0m \u001b[0ms\u001b[0m \u001b[0;34m=\u001b[0m \u001b[0;34m{\u001b[0m\u001b[0;36m1\u001b[0m\u001b[0;34m,\u001b[0m \u001b[0;36m2\u001b[0m\u001b[0;34m,\u001b[0m \u001b[0;36m3\u001b[0m\u001b[0;34m}\u001b[0m\u001b[0;34m\u001b[0m\u001b[0;34m\u001b[0m\u001b[0m\n\u001b[0;32m----> 2\u001b[0;31m \u001b[0ms\u001b[0m\u001b[0;34m.\u001b[0m\u001b[0mremove\u001b[0m\u001b[0;34m(\u001b[0m\u001b[0;36m4\u001b[0m\u001b[0;34m)\u001b[0m  \u001b[0;31m# ошибка\u001b[0m\u001b[0;34m\u001b[0m\u001b[0;34m\u001b[0m\u001b[0m\n\u001b[0m\u001b[1;32m      3\u001b[0m \u001b[0mprint\u001b[0m\u001b[0;34m(\u001b[0m\u001b[0ms\u001b[0m\u001b[0;34m)\u001b[0m\u001b[0;34m\u001b[0m\u001b[0;34m\u001b[0m\u001b[0m\n",
      "\u001b[0;31mKeyError\u001b[0m: 4"
     ]
    }
   ],
   "source": [
    "s = {1, 2, 3}\n",
    "s.remove(4)  # ошибка\n",
    "print(s)"
   ]
  },
  {
   "cell_type": "markdown",
   "metadata": {},
   "source": [
    "С помощью функции `pop()` можно удалить какой-то элемент из множества. При этом эта функция вернет значение удаленного элемента."
   ]
  },
  {
   "cell_type": "code",
   "execution_count": 64,
   "metadata": {},
   "outputs": [
    {
     "name": "stdout",
     "output_type": "stream",
     "text": [
      "zxcv\n",
      "asfasf\n",
      "liuaewr\n"
     ]
    }
   ],
   "source": [
    "s = {'asfasf', 'liuaewr', 'zxcv'}\n",
    "\n",
    "print(s.pop())\n",
    "print(s.pop())\n",
    "print(s.pop())"
   ]
  },
  {
   "cell_type": "markdown",
   "metadata": {},
   "source": [
    "Математические операции над множествами:"
   ]
  },
  {
   "cell_type": "code",
   "execution_count": 40,
   "metadata": {},
   "outputs": [
    {
     "name": "stdout",
     "output_type": "stream",
     "text": [
      "{1, 2, 100, 8, 25}\n",
      "{100}\n",
      "{1, 2, 8, 25}\n",
      "{1, 25}\n",
      "3\n",
      "True\n",
      "True\n"
     ]
    }
   ],
   "source": [
    "s = {1, 25, 100}\n",
    "t = {2, 100, 8}\n",
    "\n",
    "print(s | t)  # объединение \n",
    "print(s & t)  # пересечение\n",
    "print(s ^ t)  # симметрическая разность\n",
    "print(s - t)  # разность\n",
    "print(len(s))  # размер множества\n",
    "\n",
    "print(1 in s)  # проверяем, есть ли элемент в множестве\n",
    "print(2 not in s)  # проверяем, что 2 не лежит в множестве"
   ]
  },
  {
   "cell_type": "code",
   "execution_count": 66,
   "metadata": {},
   "outputs": [
    {
     "name": "stdout",
     "output_type": "stream",
     "text": [
      "True\n",
      "True\n",
      "False\n",
      "True\n"
     ]
    }
   ],
   "source": [
    "a = {1, 2, 3}\n",
    "b = {3, 1, 3, 2}\n",
    "\n",
    "print(a == b)  # сравниваем два множества\n",
    "print({1, 2} <= b)\n",
    "print({1, 4} <= a)\n",
    "print({1, 2, 5, 3, 7} > a)"
   ]
  },
  {
   "cell_type": "markdown",
   "metadata": {},
   "source": [
    "Оператор `a > b` для двух множеств возвращает `True` тогда и только тогда, когда все элементы `b` содержатся в `a`, а также содержится еще что-то помимо них. `a >= b` аналогично `a > b or a == b`.\n",
    "\n",
    "Аналогично для операторов `<` и `<=`.\n",
    "\n",
    "К множествам также можно преобразовывать и другие объекты, например, строки и списки."
   ]
  },
  {
   "cell_type": "code",
   "execution_count": 11,
   "metadata": {},
   "outputs": [
    {
     "name": "stdout",
     "output_type": "stream",
     "text": [
      "{'s', 'a', 'd', 'f'}\n"
     ]
    }
   ],
   "source": [
    "s = set('asdfadsf')\n",
    "\n",
    "print(s)"
   ]
  },
  {
   "cell_type": "code",
   "execution_count": 14,
   "metadata": {},
   "outputs": [
    {
     "name": "stdout",
     "output_type": "stream",
     "text": [
      "{1, '324', 'sadfdsa'}\n"
     ]
    }
   ],
   "source": [
    "s = set(['sadfdsa', 1, '324'])\n",
    "\n",
    "print(s)"
   ]
  },
  {
   "cell_type": "markdown",
   "metadata": {},
   "source": [
    "Видно, что в множестве могут лежать объекты разного типа.\n",
    "\n",
    "## Словари\n",
    "\n",
    "У нас есть список, который позволяет по индексу достать элемент. Словарь это структура, которая позволяет использовать вместо индекса не только число, но почти любой объект. То есть мы можем сопоставлять ключам значения. В качестве ключа может выступать число, строка, или еще что-то.\n",
    "\n",
    "Чтобы создать пустой словарь воспользуемся функцией `dict()`. Когда у нас есть словарь, мы можем работать с ним как со списком, используя в качестве индекса какие-то объекты."
   ]
  },
  {
   "cell_type": "code",
   "execution_count": 70,
   "metadata": {},
   "outputs": [
    {
     "name": "stdout",
     "output_type": "stream",
     "text": [
      "{'Russia': 'Moscow', 'Ukraine': 'Kiev', 'USA': 'Washington'}\n",
      "Washington\n",
      "Moscow\n"
     ]
    }
   ],
   "source": [
    "d = dict()\n",
    "\n",
    "d['Russia'] = 'Moscow'\n",
    "d['Ukraine'] = 'Kiev'\n",
    "d['USA'] = 'Washington'\n",
    "\n",
    "print(d)\n",
    "\n",
    "print(d['USA'])\n",
    "print(d['Russia'])"
   ]
  },
  {
   "cell_type": "markdown",
   "metadata": {},
   "source": [
    "Если мы попробуем обратиться по ключу, которого нет, то получим ошибку."
   ]
  },
  {
   "cell_type": "code",
   "execution_count": 71,
   "metadata": {},
   "outputs": [
    {
     "ename": "KeyError",
     "evalue": "'France'",
     "output_type": "error",
     "traceback": [
      "\u001b[0;31m---------------------------------------------------------------------------\u001b[0m",
      "\u001b[0;31mKeyError\u001b[0m                                  Traceback (most recent call last)",
      "\u001b[0;32m<ipython-input-71-40fb2584df30>\u001b[0m in \u001b[0;36m<module>\u001b[0;34m\u001b[0m\n\u001b[0;32m----> 1\u001b[0;31m \u001b[0mprint\u001b[0m\u001b[0;34m(\u001b[0m\u001b[0md\u001b[0m\u001b[0;34m[\u001b[0m\u001b[0;34m'France'\u001b[0m\u001b[0;34m]\u001b[0m\u001b[0;34m)\u001b[0m\u001b[0;34m\u001b[0m\u001b[0;34m\u001b[0m\u001b[0m\n\u001b[0m",
      "\u001b[0;31mKeyError\u001b[0m: 'France'"
     ]
    }
   ],
   "source": [
    "print(d['France'])"
   ]
  },
  {
   "cell_type": "markdown",
   "metadata": {},
   "source": [
    "Мы также можем проверить, если ли ключ в словаре. Это делается так же, как и для множества."
   ]
  },
  {
   "cell_type": "code",
   "execution_count": 20,
   "metadata": {},
   "outputs": [
    {
     "name": "stdout",
     "output_type": "stream",
     "text": [
      "True\n",
      "False\n"
     ]
    }
   ],
   "source": [
    "print('Russia' in d)\n",
    "print('Germany' not in d)"
   ]
  },
  {
   "cell_type": "markdown",
   "metadata": {},
   "source": [
    "Можно получить значение по ключу и другим способом –– функцией `get`. Ей нужно передать ключ. Если такой ключ есть, то она вернет соответствующее значение, а если нет, то `None`. При этом ошибки не будет. Можно также вторым параметром передать ей то, что нужно вернуть, если такого ключа нет."
   ]
  },
  {
   "cell_type": "code",
   "execution_count": 41,
   "metadata": {},
   "outputs": [
    {
     "name": "stdout",
     "output_type": "stream",
     "text": [
      "Moscow\n",
      "None\n",
      "No such key\n"
     ]
    }
   ],
   "source": [
    "print(d.get(\"Russia\"))\n",
    "print(d.get('Germany'))\n",
    "print(d.get('Canada', 'No such key'))"
   ]
  },
  {
   "cell_type": "markdown",
   "metadata": {},
   "source": [
    "Задать словарь можно еще и через фигурные скобки. В этом случае стоит перечислить пары ключ : значение через запятую в фигурных скобках. "
   ]
  },
  {
   "cell_type": "code",
   "execution_count": 72,
   "metadata": {},
   "outputs": [
    {
     "name": "stdout",
     "output_type": "stream",
     "text": [
      "{'Russia': 'Moscow', 'USA': 'Washington', 'Ukraine': 'Kiev'}\n",
      "Kiev\n"
     ]
    }
   ],
   "source": [
    "d = {'Russia': 'Moscow', 'USA': 'Washington', 'Ukraine': 'Kiev'}\n",
    "\n",
    "print(d)\n",
    "print(d['Ukraine'])"
   ]
  },
  {
   "cell_type": "code",
   "execution_count": null,
   "metadata": {},
   "outputs": [],
   "source": []
  }
 ],
 "metadata": {
  "kernelspec": {
   "display_name": "Python 3",
   "language": "python",
   "name": "python3"
  },
  "language_info": {
   "codemirror_mode": {
    "name": "ipython",
    "version": 3
   },
   "file_extension": ".py",
   "mimetype": "text/x-python",
   "name": "python",
   "nbconvert_exporter": "python",
   "pygments_lexer": "ipython3",
   "version": "3.6.4"
  }
 },
 "nbformat": 4,
 "nbformat_minor": 2
}
