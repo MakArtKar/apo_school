{
 "cells": [
  {
   "cell_type": "markdown",
   "metadata": {},
   "source": [
    "# Создание Телеграм-ботов. Inline-боты.\n",
    "\n",
    "Сегодня мы с вами выясним, что такое встраиваемые боты, и как их писать. Параллельно поговорим о регулярных выражениях.\n",
    "\n",
    "---\n",
    "\n",
    "Ссылки:\n",
    "* Описание всех методов и классов Telegram Bot API: https://core.telegram.org/bots/api\n",
    "* Краткая документация по pyTelegramBotAPI: https://pypi.org/project/pyTelegramBotAPI/\n",
    "* Справочник по Telegram Bot API: https://tlgrm.ru/docs/bots/api\n",
    "* Исходный код библиотеки pyTelegramBotAPI: https://github.com/eternnoir/pyTelegramBotAPI\n",
    "* Гайд по созданию Телеграм-ботов №1: https://m.habr.com/ru/post/350648/\n",
    "* Гайд по созданию Телеграм-ботов №2: https://mastergroosha.github.io/telegram-tutorial/"
   ]
  },
  {
   "cell_type": "markdown",
   "metadata": {},
   "source": [
    "# Что такое inline-бот?\n",
    "\n",
    "Инлайн боты используются, чтобы отправлять какие-то сообщения в ваш чат с другим пользователем.  \n",
    "В любом чате вы набираете имя бота и через пробел команду для него. В ответ бот присылает вам различные варианты сообщений.  \n",
    "\n",
    "Такие боты, например, могут использоваться, чтобы отправлять ссылки на смешные видео из YouTube.  \n",
    "\n",
    "<table><tr><td><img src=\"инлайн1.jpg\" style=\"height:400px;\"/></td> <td><img src=\"инлайн2.jpg\" style=\"height:400px;\"/></td> </tr></table>"
   ]
  },
  {
   "cell_type": "markdown",
   "metadata": {},
   "source": [
    "# Регистрируем inline-возможности в @BotFather\n",
    "\n",
    "Инлайн-функции можно дописать к любому из тех ботов, которых мы писали ранее. И вообще к любому боту. Но для этого нужно активировать инлайн-режим в @BotFather.\n",
    "\n",
    "Для этого:\n",
    "* Открыть диалог с @BotFather, прописать команду `/setinline` и следовать инструкциям.\n",
    "* Ввести подсказку, которая будет выводиться, когда пользователь напишет имя вашего бота.\n",
    "\n",
    "Теперь инлайн-функции доступны для вашего бота."
   ]
  },
  {
   "cell_type": "markdown",
   "metadata": {},
   "source": [
    "# Хэндлер\n",
    "\n",
    "Инлайн-команды отлавливаются хэндлером `@bot.inline_handler(filters)`. Важно понимать, что этот хэндлер отлавливает не уже отправленное пользователем сообщение, а ввод. Каждый раз, когда пользователь делает паузу в наборе текста - Телеграм считает это потенциальной командой и отправляет боту.  \n",
    "\n",
    "Из фильтров здесь есть только `func`. Функция, которую передают в хэндлер должна принимать не `message`, а `query`. То же самое касается и функции, которая вызывается хэндлером."
   ]
  },
  {
   "cell_type": "code",
   "execution_count": null,
   "metadata": {},
   "outputs": [],
   "source": [
    "@bot.inline_handler(func=lambda query: True)\n",
    "def some_action(query):\n",
    "    pass"
   ]
  },
  {
   "cell_type": "markdown",
   "metadata": {},
   "source": [
    "# Query\n",
    "\n",
    "Давайте вкратце разберемся со структурой `query`:"
   ]
  },
  {
   "cell_type": "code",
   "execution_count": null,
   "metadata": {},
   "outputs": [],
   "source": [
    "{\n",
    "    'id': '2273168582891559192',              # id запроса\n",
    "    'from_user': {                            # все про пользователя\n",
    "        'id': 529263304,\n",
    "        'is_bot': False,\n",
    "        'first_name': 'Михаил',\n",
    "        'username': 'meshanya',\n",
    "        'last_name': 'Михайлов',\n",
    "        'language_code': 'ru',\n",
    "        'can_join_groups': None,\n",
    "        'can_read_all_group_messages': None,\n",
    "        'supports_inline_queries': None},\n",
    "    'location': None,\n",
    "    'query': '2 10',                          # текст команды (без имени бота)\n",
    "    'offset': ''                              # про offset читайте ниже\n",
    "}"
   ]
  },
  {
   "cell_type": "markdown",
   "metadata": {},
   "source": [
    "# Как отвечать на inline-запросы?\n",
    "\n",
    "Все ответы делаются через `bot.answer_inline_query(inline_query_id=query.id, results=[ans1, ans2, ans3])`.  \n",
    "\n",
    "`results` - это список с возможными вариантами ответа на запрос пользователя.  \n",
    "Например, для бота с видео из YouTube - это были различные видео.\n",
    "\n",
    "У `answer_inline_query` есть еще несколько аргументов:  \n",
    "* `cache_time` - время кэширования ответа в секундах (по умолчанию - 300). Если пользователь в течение этого времени сделает запрос, который уже задавал ранее, то ему покажут старый ответ, сохраненный на серверах Телеграм. Если у вашего бота ответ на тот же самый вопрос может меняться со временем - не устанавливайте это значение большим.\n",
    "* `is_personal` - если установить `True`, то результат будет кэшироваться только для пользователя, который сделал запрос.\n",
    "* `next_offset` - читайте про `offset` далее.\n",
    "* `switch_pm_text` - текст для специальной кнопки. Про эту кнопку - ниже.\n",
    "* `switch_pm_parameter` - параметр для специальной кнопки. \n"
   ]
  },
  {
   "cell_type": "markdown",
   "metadata": {},
   "source": [
    "## Как задавать варианты ответа?\n",
    "\n",
    "Аргумент `results` в `bot.answer_inline_query` задается переменными `InlineQueryResult`. Всего есть 19 типов различных ответов. Разберу основные:  \n",
    "\n",
    "### InlineQueryResultArticle\n",
    "Задает текстовый ответ. Подсказки выглядят так же, как на картинках с YouTube ботом. К каждой подсказке добавляется картика, заголовок и краткое описание."
   ]
  },
  {
   "cell_type": "code",
   "execution_count": null,
   "metadata": {},
   "outputs": [],
   "source": [
    "ans = types.InlineQueryResultArticle(\n",
    "                id='1', title=\"Заголовок\",\n",
    "                description=\"Описание\",\n",
    "                input_message_content=types.InputTextMessageContent(message_text=\"Сообщение\"),\n",
    "                thumb_url=\"Ссылка на картинку\", thumb_width=48, thumb_height=48\n",
    "        )"
   ]
  },
  {
   "cell_type": "markdown",
   "metadata": {},
   "source": [
    "* `id` - уникальный идентификатор ответа.\n",
    "* `title` - заголовок подсказки.\n",
    "* `description` - описание ответа на подсказке.\n",
    "* `input_message_content` - тип контента, который будет отправлен пользователю. Помимо текстового сообщения можно отправить местоположение и контакт.\n",
    "* `thumb_url` - ссылка на картику, которая будет показываться на превью.\n",
    "* `thumb_width` - ширина картинки.\n",
    "* `thumb_height` - высота картинки."
   ]
  },
  {
   "cell_type": "markdown",
   "metadata": {},
   "source": [
    "### InlineQueryResultPhoto\n",
    "\n",
    "Задает ответ-изображение. Подсказки - галерея с фотографиями. К ответу можно добавить подпись и кнопки (`InlineKeyboardMarkup`). Изображение задается **ссылкой**."
   ]
  },
  {
   "cell_type": "code",
   "execution_count": null,
   "metadata": {},
   "outputs": [],
   "source": [
    "ans = types.InlineQueryResultPhoto(id='1', \n",
    "                                   photo_url=plus_icon, \n",
    "                                   thumb_url=minus_icon,\n",
    "                                   photo_width=100, \n",
    "                                   photo_height=100, \n",
    "                                   caption='Подпись',\n",
    "                                   reply_markup=markup)"
   ]
  },
  {
   "cell_type": "markdown",
   "metadata": {},
   "source": [
    "Есть второй вариант использования функции. Вместо `photo_url` можно указать `input_message_content`. Тогда подсказки будут галереей фотографий, а ответ - как в `InlineQueryResultArticle`.  \n",
    "\n",
    "---\n",
    "\n",
    "Есть еще ряд функций, аналогичных `InlineQueryResultPhoto`: `InlineQueryResultAudio`, `InlineQueryResultVideo` и другие. Они соответствуют другим типам медиа.  \n",
    "\n",
    "\n",
    "### InlineQueryResultCachedPhoto\n",
    "\n",
    "Делает то же самое, что и `InlineQueryResultPhoto`, но задает изображение не по ссылке, а по `file_id`. О том, как получить `file_id` для медиафайла - поговорим в следующих лекциях.  \n",
    "\n",
    "---\n",
    "\n",
    "Соответственно, есть еще ряд функций, аналогичных `InlineQueryResultCachedPhoto`: `InlineQueryResultCachedAudio`, `InlineQueryResultCachedVideo` и другие."
   ]
  },
  {
   "cell_type": "markdown",
   "metadata": {},
   "source": [
    "# О кнопках и редактировании сообщений\n",
    "\n",
    "Инлайновые сообщения точно так же, как и обычные, можно редактировать. Единственная разница, что для их идентификации нужна не связка `chat_id` + `message_id`, а параметр `inline_message_id`.  \n",
    "\n",
    "К инлайновым сообщениям точно так же, как и к обычным, можно прикреплять кнопки (`InlineKeyboardMarkup`).  \n",
    "\n",
    "Здесь показан пример обработчика коллбэков от Callback-кнопок, который обрабатывает как кнопки от обычных сообщений, так и от инлайновых:"
   ]
  },
  {
   "cell_type": "code",
   "execution_count": null,
   "metadata": {},
   "outputs": [],
   "source": [
    "@bot.callback_query_handler(func=lambda call: call.data == \"test\")\n",
    "def callback_inline(call):\n",
    "    # Если сообщение из чата с ботом\n",
    "    if call.message:\n",
    "        bot.edit_message_text(chat_id=call.message.chat.id, message_id=call.message.message_id, text=\"Обычное сообщение\")\n",
    "    # Если сообщение из инлайн-режима\n",
    "    elif call.inline_message_id:\n",
    "        bot.edit_message_text(inline_message_id=call.inline_message_id, text=\"Инлайн сообщение\")\n"
   ]
  },
  {
   "cell_type": "markdown",
   "metadata": {},
   "source": [
    "# Switch-кнопки\n",
    "\n",
    "На прошлой лекции мы говорили о кнопках, которые прикрепляются к сообщению. Один из возможных типов таких кнопок - switch-кнопки. Этот тип кнопок нужен для обучения пользователей инлайн-режиму бота.\n",
    "\n",
    "При нажатии на эту кнопку, выбранному пользователю отправится сообщение с ником бота и какой-то инлайн-командой.  \n",
    "\n",
    "Создается switch-кнопка так:  \n",
    "`switch_button = types.InlineKeyboardButton(text=\"Нажми меня\", switch_inline_query='special_inline_command')`  \n",
    "\n",
    "Здесь поле `switch_inline_query` - это и есть та команда, которую мы хотим отправить в инлайновом режиме.  \n",
    "Этот параметр можно задать и пустой командой.  \n",
    "\n",
    "Напомним, что кнопки, которые прикрепляются к сообщению задаются так:"
   ]
  },
  {
   "cell_type": "code",
   "execution_count": null,
   "metadata": {},
   "outputs": [],
   "source": [
    "keyboard = types.InlineKeyboardMarkup()\n",
    "switch_button = types.InlineKeyboardButton(text=\"Нажми меня\", switch_inline_query='special_inline_command')\n",
    "keyboard.add(switch_button)\n",
    "bot.send_message(message.chat.id, \"Привет! Нажми на кнопку и узнай, как работает инлайн-команда.\", reply_markup=keyboard)"
   ]
  },
  {
   "cell_type": "markdown",
   "metadata": {},
   "source": [
    "# switch_pm_text и switch_pm_parameter\n",
    "\n",
    "Продолжая тему switch-кнопок - обсудим аргументы `switch_pm_text` и `switch_pm_parameter` в методе, который задает список подсказок, - `bot.answer_inline_query()`.  \n",
    "\n",
    "Если задать `switch_pm_text` и `switch_pm_parameter` какими-то строками, то над списком подсказок бота появится кнопка с текстом из `switch_pm_text`. При ее нажатии, вы автоматически перейдете в чат с ботом, и боту будет отправлена команда `\\start <строка из switch_pm_parameter>`. Пусть вас не смущает, что в чате видно только `/start`. На деле, в поле `message.text` лежит то, что нужно.  \n",
    "\n",
    "Если после этого бот отправляет в чат с вами switch-кнопку - вас автоматически перебросит в исходный чат.\n",
    "\n",
    "---\n",
    "\n",
    "*Зачем нужен такой функционал?*  \n",
    "\n",
    "*Например, в боте, который рекомендует видео из YouTube так можно реализовать авторизацию.  \n",
    "Когда пользователь начинает делать инлайн-запрос - он видит предложение авторизоваться, чтобы улучшить релевантность подсказок. При нажатии на кнопку `авторизоваться` - его перекинет в чат с ботом, куда бот скинет ссылку на авторизацию (чтобы все участники чата, куда вводился инлайн-запрос, этого не видели).*  \n",
    "\n",
    "*Как только вход на YouTube будет выполнен - боту будет достаточно просто отправить switch-кнопку в чат, чтобы пользователя обратно перекинуло в исходный чат.*"
   ]
  },
  {
   "cell_type": "markdown",
   "metadata": {},
   "source": [
    "# Offset\n",
    "\n",
    "В методе, который задает список подсказок - `bot.answer_inline_query()` был еще один непонятный аргумент - `next_offset` (англ. \"смещение\").  \n",
    "\n",
    "Этот параметр нужен, чтобы реализовать постепенную подгрузку подсказок. Например, пользователь запрашивает определенное видео - бот возвращает 5 подсказок. Если пользователь начнет их проматывать - бот загрузит еще 5, и Телеграм допишет их к уже имеющимся.  \n",
    "\n",
    "В переменной `query` есть поле `offset` (это **строка**). Изначально поле `offset` - это пустая строка. Если пользователь не изменит запрос, а начнет листать подсказки - то снова сработает хэндлер, но в `query.offset` уже будет записано значение, которое мы передали в `next_offset` (передавать тоже надо **строку**). Это позволяет боту определить что нужна новая порция подсказок."
   ]
  },
  {
   "cell_type": "code",
   "execution_count": null,
   "metadata": {},
   "outputs": [],
   "source": [
    "@bot.inline_handler(func=lambda query: True)\n",
    "def show_hints(query):\n",
    "    offset = int(query.offset) if query.offset else 0\n",
    "    \n",
    "    if offset == 20:\n",
    "        return\n",
    "    \n",
    "    res = []\n",
    "    for i in range(offset, offset + 5):  # Выдаю подсказки порциями по 5\n",
    "        hint = types.InlineQueryResultArticle(id=i, title=\"Подсказка №{}\".format(i),\n",
    "                                              description=\"Очень\\nобъемное\\nописание\\nподсказки.\\n\",\n",
    "                                              input_message_content=types.InputTextMessageContent(\n",
    "                                                message_text=\"Подсказка №{}\".format(i)))\n",
    "        res.append(hint)\n",
    "        \n",
    "    bot.answer_inline_query(query.id, res, cache_time=5, next_offset=str(offset + 5))"
   ]
  },
  {
   "cell_type": "markdown",
   "metadata": {},
   "source": [
    "# Регулярные выражения\n",
    "\n",
    "Наконец, обсудим, что такое регулярные выражения.  \n",
    "\n",
    "В инлайн-ботах очень актуальна следующая задача: нужно отсекать ситуации, когда пользователь задумался и ввел команду не до конца.  \n",
    "Например, вы писали бота калькулятор, а пользователь ввел только одно число. При таком раскладе ваш бот ничего сделать не может.  \n",
    "\n",
    "Регулярные выражения как раз нужны, чтобы определять соответствует ли текст или его часть заданным параметрам.  \n",
    "\n",
    "---\n",
    "\n",
    "Для работы с регулярками используется модуль `re`. Я пробегусь по его основным функциям.  \n",
    "Подробнее про регулярные выражения почитайте здесь:\n",
    "* Основы: https://tproger.ru/translations/regular-expression-python/\n",
    "* И еще: https://tproger.ru/translations/regular-expression-python/\n",
    "* Посложнее: https://habr.com/ru/post/349860/\n",
    "\n",
    "Регулярное выражение - это строка из специальных символов. Она задает правила, по которым одни строки удоблетворяют этому выражению, а другие - нет."
   ]
  },
  {
   "cell_type": "markdown",
   "metadata": {},
   "source": [
    "Основные обозначения в регулярных выражениях:\n",
    "* `.` - Один любой символ, кроме новой строки `\\n`.\n",
    "* `?` - 0 или 1 вхождение шаблона слева\n",
    "* `+` - 1 и более вхождений шаблона слева\n",
    "* `*` - 0 и более вхождений шаблона слева\n",
    "* `\\w` - Любая цифра или буква (`\\W` — все, кроме буквы или цифры)\n",
    "* `\\d` - Любая цифра `[0-9]` (`\\D` — все, кроме цифры)\n",
    "* `\\s` - Любой пробельный символ (\\S — любой непробельный символ)\n",
    "* `\\b` - Граница слова\n",
    "* `[..]` - Один из символов в скобках (`[^..]` — любой символ, кроме тех, что в скобках)\n",
    "* `\\` - Экранирование специальных символов (`\\.` означает точку или `\\+` — знак «плюс»)\n",
    "* `^` и `$` - Начало и конец строки соответственно\n",
    "* `{n,m}` - От n до m вхождений (`{,m}` — от 0 до m)\n",
    "* `a|b` - Соответствует a или b\n",
    "* `()` - Группирует выражение и возвращает найденный текст\n",
    "* `\\t`, `\\n`, `\\r` - Символ табуляции, новой строки и возврата каретки соответственно"
   ]
  },
  {
   "cell_type": "markdown",
   "metadata": {},
   "source": [
    " <table style=\"font-size:14px\">\n",
    "   <tr>\n",
    "    <th>\n",
    "     Регулярка\n",
    "    </th>\n",
    "    <th>\n",
    "     Её смысл\n",
    "    </th>\n",
    "   </tr>\n",
    "   <tr>\n",
    "    <td>\n",
    "      simple text\n",
    "    </td>\n",
    "    <td>\n",
    "     В точности текст «simple text»\n",
    "    </td>\n",
    "   </tr>\n",
    "   <tr>\n",
    "    <td>\n",
    "     <code>\\d{5}</code>\n",
    "    </td>\n",
    "    <td>\n",
    "     Последовательности из 5 цифр\n",
    "     <br/>\n",
    "     <code>\\d</code>\n",
    "     означает любую цифру\n",
    "     <br/>\n",
    "     <code>{5}</code>\n",
    "     — ровно 5 раз\n",
    "    </td>\n",
    "   </tr>\n",
    "   <tr>\n",
    "    <td>\n",
    "     <code>\\d\\d/\\d\\d/\\d{4}</code>\n",
    "    </td>\n",
    "    <td>\n",
    "     Даты в формате ДД/ММ/ГГГГ\n",
    "     <br/>\n",
    "     (и прочие куски, на них похожие, например, 98/76/5432)\n",
    "    </td>\n",
    "   </tr>\n",
    "   <tr>\n",
    "    <td>\n",
    "     <code>\\b\\w{3}\\b</code>\n",
    "    </td>\n",
    "    <td>\n",
    "     Слова в точности из трёх букв\n",
    "     <br/>\n",
    "     <code>\\b</code>\n",
    "     означает границу слова\n",
    "     <br/>\n",
    "     (с одной стороны буква, а с другой — нет)\n",
    "     <br/>\n",
    "     <code>\\w</code>\n",
    "     — любая буква,\n",
    "     <br/>\n",
    "     <code>{3}</code>\n",
    "     — ровно три раза\n",
    "    </td>\n",
    "   </tr>\n",
    "   <tr>\n",
    "    <td>\n",
    "     <code>[-+]?([1-9]\\d*|0)</code>\n",
    "    </td>\n",
    "    <td>\n",
    "     Целое число, например, 7, +17, -42\n",
    "     <br/>\n",
    "        (исключены ведущие нули, но допустимы 0, +0, -0)\n",
    "     <br/>\n",
    "     <code>[-+]?</code>\n",
    "     — либо -, либо +, либо пусто\n",
    "     <br/>\n",
    "     <code>\\d+</code>\n",
    "     — последовательность из 1 или более цифр\n",
    "    </td>\n",
    "   </tr>\n",
    "   <tr>\n",
    "    <td>\n",
    "     <code>/w+@w+.w+</code>\n",
    "    </td>\n",
    "    <td>\n",
    "     Электронная почта\n",
    "     <br/>\n",
    "     Если мы считаем, что в ней посередине обязательно должна быть собака,\n",
    "     <br/>\n",
    "     а после нее - доменное имя с точкой посередине.\n",
    "    </td>\n",
    "   </tr>\n",
    " </table>\n"
   ]
  },
  {
   "cell_type": "markdown",
   "metadata": {},
   "source": [
    "---\n",
    "\n",
    "Расскажу вкратце о методах, которые могут вам понадобиться сейчас."
   ]
  },
  {
   "cell_type": "code",
   "execution_count": 1,
   "metadata": {},
   "outputs": [
    {
     "name": "stdout",
     "output_type": "stream",
     "text": [
      "13\n",
      "0 2\n",
      "-12\n",
      "-123\n",
      "['123', '0', '43']\n"
     ]
    }
   ],
   "source": [
    "import re  # Подключает модуль для регулярных выражений (РВ)\n",
    "\n",
    "numbers = re.compile(r'[-+]?([1-9]\\d*|0)')     # Создаем объект, который будет проверять на соотоветствие РВ\n",
    "\n",
    "from_first_symbol = numbers.match('13s12')     # Ищет включение начиная с первого символа (вернет None, если ничего не найдет)\n",
    "print(from_first_symbol.group())               # Нужно использовать метод group, чтобы перейти непосредственно к вхождению\n",
    "print(from_first_symbol.start(), \n",
    "      from_first_symbol.end())                 # Печатаем индексы начала и конца включения\n",
    "\n",
    "from_arbitrary_symbol = numbers.search('s-12') # Ищет первое включение, начиная с произвольного символа\n",
    "print(from_arbitrary_symbol.group())\n",
    "\n",
    "full_match = numbers.fullmatch('-123')         # Проверяет на полное совпадение\n",
    "print(full_match.group())\n",
    "\n",
    "all_matches = numbers.findall('a-123bv-0m43')  # Ищет все включения (вернет пустой список, если не найдет)\n",
    "print(all_matches)"
   ]
  },
  {
   "cell_type": "code",
   "execution_count": 2,
   "metadata": {},
   "outputs": [
    {
     "name": "stdout",
     "output_type": "stream",
     "text": [
      "-123\n",
      "-123\n",
      "\n",
      "ш1\n",
      "NO\n",
      "\n",
      "0\n",
      "0\n",
      "\n",
      "90\n",
      "90\n",
      "\n",
      "-1\n"
     ]
    }
   ],
   "source": [
    "import re\n",
    "\n",
    "\n",
    "numb = re.compile(r'[-+]?([1-9]\\d*|0)')\n",
    "\n",
    "inp = input()\n",
    "while inp != '-1':\n",
    "    result = numb.fullmatch(inp)\n",
    "    \n",
    "    if result == None:\n",
    "        print(\"NO\")\n",
    "    else:\n",
    "        print(result.group())\n",
    "    print()\n",
    "    inp = input()\n"
   ]
  },
  {
   "cell_type": "markdown",
   "metadata": {},
   "source": [
    "### Использование регулярных выражений в ботах\n",
    "\n",
    "Теперь представим, что мы писали бота-калькулятора. То есть нам надо было в ответ на два введенных числа выдавать подсказками результаты их сложения, вычитания, умножения и деления. Тогда нам нужно было отсекать ситуации, когда пользователь вводил что-то отличное от двух чисел.  \n",
    "\n",
    "Например, сделать это можно было так:  "
   ]
  },
  {
   "cell_type": "code",
   "execution_count": null,
   "metadata": {},
   "outputs": [],
   "source": [
    "@bot.inline_handler(func=lambda query: True)\n",
    "def show_hints(query):\n",
    "    numb = re.compile(r'[-+]?([1-9]\\d*|0) [-+]?([1-9]\\d*|0)')\n",
    "    result = numb.fullmatch(query.text)\n",
    "    \n",
    "    if result == None:\n",
    "        return\n",
    "    \n",
    "    a, b = [int(val) for val in result.group().split()]  # Подходящий нам результат был вида \"-12 3\".\n",
    "                                                         # Мы разделили его по пробелу и привели к int.\n",
    "    \n",
    "    print(\"Первое число - это {}\".format(a))\n",
    "    print(\"Второе число - это {}\".format(b))"
   ]
  },
  {
   "cell_type": "markdown",
   "metadata": {},
   "source": [
    "Кстати, если вы вдруг забыли, регулярные выражения могут быть фильтром в хэндлерах.\n",
    "\n",
    "Синтаксис такой: `@bot.message_handler(regexp='SOME_REGEXP')`.\n",
    "\n",
    "Данный хэндлер вызовется, если выражение `re.search(r'SOME_REGEXP', message.text)` что-нибудь найдет.  \n"
   ]
  },
  {
   "cell_type": "code",
   "execution_count": null,
   "metadata": {},
   "outputs": [],
   "source": [
    "re.search(r'SOME_REGEXP', message.text)\n",
    "\n",
    "# Эти два выражения делают одно и то же. Актуально и для re.match(), re.fullmatch(), re.findall().\n",
    "\n",
    "regexp = re.compile(r'SOME_REGEXP')\n",
    "regexp.search(message.text)"
   ]
  },
  {
   "cell_type": "markdown",
   "metadata": {},
   "source": [
    "# Пишем бота, который будет подсказывать анекдот.\n"
   ]
  },
  {
   "cell_type": "code",
   "execution_count": null,
   "metadata": {},
   "outputs": [],
   "source": [
    "# Код в PyCharm-проекте"
   ]
  }
 ],
 "metadata": {
  "kernelspec": {
   "display_name": "Python 3",
   "language": "python",
   "name": "python3"
  },
  "language_info": {
   "codemirror_mode": {
    "name": "ipython",
    "version": 3
   },
   "file_extension": ".py",
   "mimetype": "text/x-python",
   "name": "python",
   "nbconvert_exporter": "python",
   "pygments_lexer": "ipython3",
   "version": "3.7.4"
  }
 },
 "nbformat": 4,
 "nbformat_minor": 2
}
